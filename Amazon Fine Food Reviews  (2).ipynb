{
 "cells": [
  {
   "cell_type": "markdown",
   "metadata": {},
   "source": [
    "# Natural Language Processing"
   ]
  },
  {
   "cell_type": "markdown",
   "metadata": {},
   "source": [
    "# Text preprocessing"
   ]
  },
  {
   "cell_type": "markdown",
   "metadata": {},
   "source": [
    "# Removing stop words\n",
    "<br>Stop Words: A stop word is a commonly used word (such as “the”, “a”, “an”, “in”) that a search engine has been programmed to ignore, both when indexing entries for searching and when retrieving them as the result of a search query.</br>"
   ]
  },
  {
   "cell_type": "code",
   "execution_count": null,
   "metadata": {},
   "outputs": [],
   "source": [
    "# Code Sample\n",
    "import nltk\n",
    "from nltk.corpus import stopwords\n",
    "print(stopwords.words('english')) # will give all stopwords(useless) words in english"
   ]
  },
  {
   "cell_type": "code",
   "execution_count": null,
   "metadata": {},
   "outputs": [],
   "source": [
    "nltk.download('punkt')"
   ]
  },
  {
   "cell_type": "markdown",
   "metadata": {},
   "source": [
    "# Stemming\n",
    "<br>Reducing a word into its stem i.e. root form.</br>\n",
    "<br>Root form is not necessarily a word by itself but it can be used to generate words by concatenating the right suffix.</br>\n",
    "\n",
    "# example\n",
    "<br> tastes,tasty,tasteful root form is taste</br>\n",
    "<br> beautiful root form is beauty</br>"
   ]
  },
  {
   "cell_type": "markdown",
   "metadata": {},
   "source": [
    "# Lemmatization\n",
    "<br> Combining inflected words into a common word called lemma </br>\n",
    "<br> Lemmatization usually refers to doing things properly with the use of a vocabulary and morphological analysis of words, normally aiming to remove inflectional endings only and to return the base or dictionary form of a word, which is known as the lemma</br>\n",
    "\n",
    "# example \n",
    "<br>saw in lemmatization will give see,saw based on verb or noun used whereas stemming will be give s.</br>\n",
    "<br> Lemmization is good compared to stemmization because say words like study,studies and studying stems into studi which is not a word whereas in lemmtization it will be study.</br>\n",
    "<br>words like cries and cry stems to cri which is not an english word </br>\n"
   ]
  },
  {
   "cell_type": "markdown",
   "metadata": {},
   "source": [
    "# Tokenization\n",
    "\n",
    "<br> Breaking a sentence into words </br>\n",
    "<br>Tokenization is a way of separating a piece of text into smaller units called tokens. Here, tokens can be either words, characters, or subwords. Hence, tokenization can be broadly classified into 3 types – word, character, and subword (n-gram characters) tokenization.</br>\n",
    "\n",
    "# For example, consider the sentence: “Never give up”.\n",
    "\n",
    "<br>The most common way of forming tokens is based on space. Assuming space as a delimiter, the tokenization of the sentence results in 3 tokens – Never-give-up. As each token is a word, it becomes an example of Word tokenization.</br>\n",
    "\n",
    "<br>Similarly, tokens can be either characters or subwords. For example, let us consider “smarter”:</br>\n",
    "\n",
    "<br>Character tokens: s-m-a-r-t-e-r </br>\n",
    "<br>Subword tokens: smart-er </br>\n",
    "\n",
    "<br> Tokenization is performed on the corpus to obtain tokens. The following tokens are then used to prepare a vocabulary. Vocabulary refers to the set of unique tokens in the corpus. Remember that vocabulary can be constructed by considering each unique token in the corpus or by considering the top K Frequently Occurring Words</br>"
   ]
  },
  {
   "cell_type": "markdown",
   "metadata": {},
   "source": [
    "# Understanding Bag of Words(BOW)"
   ]
  },
  {
   "cell_type": "markdown",
   "metadata": {},
   "source": [
    "# Example\n",
    "<br>review 1: This pasta is very tasty and affordable </br>\n",
    "<br>review 2: This pasta is not tasty and is affordable </br>\n",
    "<br>review 3: This pasta is delicious and cheap </br>\n",
    "<br>review 4: Pasta is tasty and pasta tastes good </br>\n",
    "    \n",
    "\n"
   ]
  },
  {
   "cell_type": "markdown",
   "metadata": {},
   "source": [
    "# Step1: Construct a dictionary: Set of all unique words in the reviews\n",
    "<br>{This, pasta,is,very,tasty,and,affordable,not,cheap,tastes,good} </br>\n",
    "<br>So for review1 it will create vector where all the above will be index and value is count there depending upon how much times each words occurs in the review.</br>\n",
    "<br>Similarly for rest of the reviews </br>"
   ]
  },
  {
   "cell_type": "markdown",
   "metadata": {},
   "source": [
    "# Binary BoW\n",
    "<br> Here value is either 0 or 1 depending upon whether it is present or not in vector for the review.</br>"
   ]
  },
  {
   "cell_type": "markdown",
   "metadata": {},
   "source": [
    "\n",
    "# Unigram\n",
    "<br><b>review1: This pasta is very tasty and affordable.</b></br>\n",
    "<br> In unigram each word is consider a 1 dimension </br>\n",
    "<br>Example here we will have 7 dimensions this,pasta, is,very, tasty, and, affordable </br>\n",
    "\n",
    "# Bigram\n",
    "<br> In bigram pair of 2 words(2 words) we will be consider as 1 dimension.</br>\n",
    "<br>Here This pasta, pasta is, is very, very tasty, tasty and .. will be consider as 1 dimension each </br>\n",
    "\n",
    "# Trigram \n",
    "<br> Here pair of 3 consecutive words and create dimension for each </br>\n",
    "# n gram\n",
    "<br> create pair for n words as 1 dimension </br>"
   ]
  },
  {
   "cell_type": "markdown",
   "metadata": {},
   "source": [
    "# Unigram discards sequence info rmation like say losses info of very tasty or not tasty.\n",
    "# Number of trigram > no. of bigram > no. of unigram"
   ]
  },
  {
   "cell_type": "markdown",
   "metadata": {},
   "source": [
    "# Drawback of BOW\n",
    "\n",
    "<br> Say in a sentence review The pasta is delicious and tasty </br>\n",
    "<br> So BOW will consider tasty and delicious as 2 different words although both have same meaning </br>\n"
   ]
  },
  {
   "cell_type": "markdown",
   "metadata": {},
   "source": [
    "# Term frequency Inverse document Frequency \n",
    "<br>TF-IDF is a statistical measure that evaluates how relevant a word is to a document in a collection of documents.</br>\n",
    "<br>This is done by multiplying two metrics: how many times a word appears in a document, and the inverse document frequency of the word across a set of documents</br>\n",
    "    "
   ]
  },
  {
   "cell_type": "markdown",
   "metadata": {},
   "source": [
    "# Example \n",
    "r1:w1w2w3w2w5\n",
    "r2: w1w3w4w5w6w2\n",
    "\n",
    "tf= Number of times Wi(word) occurs in rj(review)/(Total number of words in rj(review))\n",
    "tf(w2,r1)=2/5\n",
    "\n",
    "<br> tf(term frequency) is probability range from 0 to 1</br>\n",
    "<br> Inverse Document Frequency(idf) words that occurs rarely in corpus have high IDF score i.e. used to calculate weight of rare words across documents.</br>\n",
    "\n",
    "<br> IDF=log(N/ni) N:number of documents, ni: Number of documents that contain the word.</br>\n",
    "        \n",
    "<br>log(N/ni)>= 0 </br>\n",
    "\n",
    "<br> if ni increases , N/ni decreases then log(N/ni) decreases </br>\n",
    "<br> If Wi is more frequent then IDF will be low</br>\n",
    "<br> If Wi is rare frequent then IDf will be high</br>\n",
    "\n",
    "\n",
    "\n"
   ]
  },
  {
   "cell_type": "markdown",
   "metadata": {},
   "source": [
    "# Drawback of tfidf\n",
    "<br> Not takes semantic meaning </br>"
   ]
  },
  {
   "cell_type": "markdown",
   "metadata": {},
   "source": [
    "# Word 2 vec\n",
    "\n",
    "<br> Convert word into vector i.e. Takes word as a d-dim vector with dense vector where d is typically 50,100 or 300</br>\n",
    "<br> Takes into consideration semantic meaning like tasty and delicious as same </br>\n",
    "<br> If 2 words are similar then their vectors are closer </br>\n",
    "<br>It builds a vector for each word. If neighborhood of Wi is same as neighborhood of Wj then both vectors Vi and Vj are closer</br>\n",
    "\n",
    "# Converting sentence into vector using W2vec?\n",
    "<br>Say review1: w1w2w3w5</br>\n",
    "<br>So vector v1 for review is given as:</br>\n",
    "<br>v1= (1/number of words in the review*(w2v(w1)+w2v(w2)+w2v(w3)+w2v(w5)))</br>\n",
    "<br> This is called Avg w2v where summing all w2v in the review for each words and then dividing it by no. of words in the review</br>\n",
    "\n",
    "\n",
    "# What is word2vec?\n",
    "<br>Word2vec is the technique/model to produce word embedding for better word representation. It captures a large number of precise syntactic and semantic word relationship. It is a shallow two-layered neural network. Before going further, please see the difference between shallow and deep neural network:</br>\n",
    "\n",
    "<br>The shallow neural network consists of the only a hidden layer between input and output whereas deep neural network contains multiple hidden layers between input and output. Input is subjected to nodes whereas the hidden layer, as well as the output layer, contains neurons.</br>\n",
    "\n",
    "<center>\n",
    "<img src=\"ipynb.images/word2vec.png\" width=500 />\n",
    "</center>\n",
    "\n",
    "\n",
    "# What word2vec does?\n",
    "<br>Word2vec represents words in vector space representation. Words are represented in the form of vectors and placement is done in such a way that similar meaning words appear together and dissimilar words are located far away. This is also termed as a semantic relationship. Neural networks do not understand text instead they understand only numbers. Word Embedding provides a way to convert text to a numeric vector.</br>\n",
    "\n",
    "<br>Word2vec reconstructs the linguistic context of words. Before going further let us understand, what is linguistic context? In general life scenario when we speak or write to communicate, other people try to figure out what is objective of the sentence. For example, \"What is the temperature of India\", here the context is the user wants to know \"temperature of India\" which is context. In short, the main objective of a sentence is context. Word or sentence surrounding spoken or written language (disclosure) helps in determining the meaning of context. Word2vec learns vector representation of words through the contexts.</br>\n",
    "\n",
    "# How Word2vec works?\n",
    "<br>Word2vec learns word by predicting its surrounding context. For example, let us take the word \"He loves Football.\"</br>\n",
    "\n",
    "<br>We want to calculate the word2vec for the word: loves.</br>\n",
    "\n",
    "<br>Suppose\n",
    "\n",
    "<br>loves =  Vin. P(Vout / Vin) is calculated\t</br>\n",
    "<br>where,\t</br>\n",
    "<br>Vin is the input word.</br>\n",
    "<br>P is the probability of likelihood.</br>\n",
    "<br>Vout is the output word.</br> \t\n",
    "<br>Word loves moves over each word in the corpus. Syntactic as well as the Semantic relationship between words is encoded. This helps in finding similar and analogies words.</br>\n",
    "\n",
    "<br>All random features of the word loves is calculated. These features are changed or update concerning neighbor or context words with the help of a back propagation method.</br>\n",
    "\n",
    "<br>Another way of learning is that if the context of two words are similar or two words have similar features, then such words are related.</br>"
   ]
  },
  {
   "cell_type": "markdown",
   "metadata": {},
   "source": [
    "# Amazon Fine Food Reviews Analysis\n",
    "\n",
    "\n",
    "Data Source: https://www.kaggle.com/snap/amazon-fine-food-reviews <br>\n",
    "\n",
    "\n",
    "# Objective:\n",
    "### Given a review, determine whether the review is positive (Rating of 4 or 5) or negative (rating of 1 or 2)\n",
    "\n",
    "The Amazon Fine Food Reviews dataset consists of reviews of fine foods from Amazon.<br>\n",
    "\n",
    "Number of reviews: 568,454<br>\n",
    "Number of users: 256,059<br>\n",
    "Number of products: 74,258<br>\n",
    "Timespan: Oct 1999 - Oct 2012<br>\n",
    "Number of Attributes/Columns in data: 10 \n",
    "\n",
    "Attribute Information:\n",
    "\n",
    "1. Id\n",
    "2. ProductId - unique identifier for the product\n",
    "3. UserId - unqiue identifier for the user\n",
    "4. ProfileName\n",
    "5. HelpfulnessNumerator - number of users who found the review helpful\n",
    "6. HelpfulnessDenominator - number of users who indicated whether they found the review helpful or not\n",
    "7. Score - rating between 1 and 5\n",
    "8. Time - timestamp for the review\n",
    "9. Summary - brief summary of the review\n",
    "10. Text - text of the review\n",
    "\n",
    "</b>\n",
    "\n",
    "\n",
    "\n",
    "\n",
    "### Task Performed: \n",
    "\n",
    "<br>\n",
    "<b>1.Reading the data from SQLite and filtering (taking into consideration) only Score which are 1, 2 ,4 and 5 ignoring Score with 3.</b></br>\n",
    "<br><b>2.Changing the value of Score column such that Score of 1 and 2 are 0 ( Negative) while Score of 4 and 5 are 1 (Positive).</b></br>\n",
    "<br><b>3.Removing duplicate entries or error rows.</b></br>\n",
    "<br><b>4.Creating a function to clean the text i.e. review given by removing punctuations, stopwords etc.</b></br>\n",
    "<br><b>5.Taking the cleaned text as input(independent variable) and Score(0 or 1) i.e. positive or negative as dependent variable.</b></br>\n",
    "<br><b>6.Splitting the data and uses CountVectorizer to get counts of words frequency in text (review) Column.</b></br>\n",
    "<br><b>7.Use Multinomial Naive Bayes Classifier to predict whether the review was positive or negative.</b></br>\n",
    "<br><b>8.Use Hyperparameter Tuning RandomizedSearchCV to get best parameters to improve the model prediction.</b></br>\n",
    "<br><b>9.Use TFIDFVectorizer(Term Frequency Inverse Document Frequency) which is to get value where value increases proportionally to count, but is inversely proportional to frequency of the word in the Text column (reviews).</b></br>\n",
    "<br><b>10.Use Multinomial Naive Bayes Classifier to predict whether the review was positive or negative and also improve the model by RandomizedSearchCV to get best parameters.</b></br>"
   ]
  },
  {
   "cell_type": "markdown",
   "metadata": {},
   "source": [
    "# Importing libraries"
   ]
  },
  {
   "cell_type": "code",
   "execution_count": 1,
   "metadata": {},
   "outputs": [],
   "source": [
    "import sqlite3\n",
    "import pandas as pd\n",
    "import numpy as np\n",
    "import nltk\n",
    "import string\n",
    "import matplotlib.pyplot as plt\n",
    "import seaborn as sns\n",
    "from sklearn.feature_extraction.text import TfidfVectorizer\n",
    "%matplotlib inline\n",
    "import warnings\n",
    "warnings.filterwarnings(\"ignore\")\n",
    "import re\n",
    "import string\n",
    "from nltk.corpus import stopwords\n"
   ]
  },
  {
   "cell_type": "markdown",
   "metadata": {},
   "source": [
    "# READING DATA\n",
    "\n",
    "The dataset is available in SQLite Database\n",
    "\n",
    "Getting only records where Score is either 1,2 4 and 5 ignoring records where Score is 5."
   ]
  },
  {
   "cell_type": "code",
   "execution_count": 2,
   "metadata": {},
   "outputs": [],
   "source": [
    "# Using SQLite Table to read data\n",
    "# To create a connection with SQl\n",
    "con = sqlite3.connect('C:/Users/shwer/data/database.sqlite')\n",
    "# reference: https://pandas.pydata.org/pandas-docs/stable/reference/api/pandas.read_sql_query.html\n",
    "filtered_data = pd.read_sql_query(\"\"\" SELECT * FROM Reviews WHERE Score != 3 LIMIT 100000\"\"\", con) # Getting only those data where score is 1,2 or 4,5\n"
   ]
  },
  {
   "cell_type": "markdown",
   "metadata": {},
   "source": [
    "#### Creating a function where Score 4,5 is consider 1 and Scores 1,2 is consider 0"
   ]
  },
  {
   "cell_type": "code",
   "execution_count": 3,
   "metadata": {},
   "outputs": [],
   "source": [
    "def partition(x):\n",
    "    if x<3:\n",
    "        return 0\n",
    "    return 1\n",
    "    "
   ]
  },
  {
   "cell_type": "code",
   "execution_count": 4,
   "metadata": {},
   "outputs": [],
   "source": [
    "actualScore=filtered_data['Score'] # Taking Score column and putting in actualScore"
   ]
  },
  {
   "cell_type": "code",
   "execution_count": 5,
   "metadata": {},
   "outputs": [
    {
     "data": {
      "text/plain": [
       "0        5\n",
       "1        1\n",
       "2        4\n",
       "3        2\n",
       "4        5\n",
       "        ..\n",
       "99995    5\n",
       "99996    5\n",
       "99997    5\n",
       "99998    5\n",
       "99999    5\n",
       "Name: Score, Length: 100000, dtype: int64"
      ]
     },
     "execution_count": 5,
     "metadata": {},
     "output_type": "execute_result"
    }
   ],
   "source": [
    "actualScore"
   ]
  },
  {
   "cell_type": "markdown",
   "metadata": {},
   "source": [
    "##### Applying function partition to give Score of 0 to Scores having 1,2 and 4,5 to 1."
   ]
  },
  {
   "cell_type": "code",
   "execution_count": 6,
   "metadata": {},
   "outputs": [],
   "source": [
    "positiveNegative=actualScore.map(partition)"
   ]
  },
  {
   "cell_type": "code",
   "execution_count": 7,
   "metadata": {},
   "outputs": [
    {
     "data": {
      "text/plain": [
       "0        1\n",
       "1        0\n",
       "2        1\n",
       "3        0\n",
       "4        1\n",
       "        ..\n",
       "99995    1\n",
       "99996    1\n",
       "99997    1\n",
       "99998    1\n",
       "99999    1\n",
       "Name: Score, Length: 100000, dtype: int64"
      ]
     },
     "execution_count": 7,
     "metadata": {},
     "output_type": "execute_result"
    }
   ],
   "source": [
    "positiveNegative"
   ]
  },
  {
   "cell_type": "markdown",
   "metadata": {},
   "source": [
    "##### Changing Score column values to only 0 and 1."
   ]
  },
  {
   "cell_type": "code",
   "execution_count": 8,
   "metadata": {},
   "outputs": [],
   "source": [
    "filtered_data['Score']=positiveNegative "
   ]
  },
  {
   "cell_type": "code",
   "execution_count": 9,
   "metadata": {},
   "outputs": [
    {
     "data": {
      "text/html": [
       "<div>\n",
       "<style scoped>\n",
       "    .dataframe tbody tr th:only-of-type {\n",
       "        vertical-align: middle;\n",
       "    }\n",
       "\n",
       "    .dataframe tbody tr th {\n",
       "        vertical-align: top;\n",
       "    }\n",
       "\n",
       "    .dataframe thead th {\n",
       "        text-align: right;\n",
       "    }\n",
       "</style>\n",
       "<table border=\"1\" class=\"dataframe\">\n",
       "  <thead>\n",
       "    <tr style=\"text-align: right;\">\n",
       "      <th></th>\n",
       "      <th>Id</th>\n",
       "      <th>ProductId</th>\n",
       "      <th>UserId</th>\n",
       "      <th>ProfileName</th>\n",
       "      <th>HelpfulnessNumerator</th>\n",
       "      <th>HelpfulnessDenominator</th>\n",
       "      <th>Score</th>\n",
       "      <th>Time</th>\n",
       "      <th>Summary</th>\n",
       "      <th>Text</th>\n",
       "    </tr>\n",
       "  </thead>\n",
       "  <tbody>\n",
       "    <tr>\n",
       "      <th>0</th>\n",
       "      <td>1</td>\n",
       "      <td>B001E4KFG0</td>\n",
       "      <td>A3SGXH7AUHU8GW</td>\n",
       "      <td>delmartian</td>\n",
       "      <td>1</td>\n",
       "      <td>1</td>\n",
       "      <td>1</td>\n",
       "      <td>1303862400</td>\n",
       "      <td>Good Quality Dog Food</td>\n",
       "      <td>I have bought several of the Vitality canned d...</td>\n",
       "    </tr>\n",
       "    <tr>\n",
       "      <th>1</th>\n",
       "      <td>2</td>\n",
       "      <td>B00813GRG4</td>\n",
       "      <td>A1D87F6ZCVE5NK</td>\n",
       "      <td>dll pa</td>\n",
       "      <td>0</td>\n",
       "      <td>0</td>\n",
       "      <td>0</td>\n",
       "      <td>1346976000</td>\n",
       "      <td>Not as Advertised</td>\n",
       "      <td>Product arrived labeled as Jumbo Salted Peanut...</td>\n",
       "    </tr>\n",
       "    <tr>\n",
       "      <th>2</th>\n",
       "      <td>3</td>\n",
       "      <td>B000LQOCH0</td>\n",
       "      <td>ABXLMWJIXXAIN</td>\n",
       "      <td>Natalia Corres \"Natalia Corres\"</td>\n",
       "      <td>1</td>\n",
       "      <td>1</td>\n",
       "      <td>1</td>\n",
       "      <td>1219017600</td>\n",
       "      <td>\"Delight\" says it all</td>\n",
       "      <td>This is a confection that has been around a fe...</td>\n",
       "    </tr>\n",
       "    <tr>\n",
       "      <th>3</th>\n",
       "      <td>4</td>\n",
       "      <td>B000UA0QIQ</td>\n",
       "      <td>A395BORC6FGVXV</td>\n",
       "      <td>Karl</td>\n",
       "      <td>3</td>\n",
       "      <td>3</td>\n",
       "      <td>0</td>\n",
       "      <td>1307923200</td>\n",
       "      <td>Cough Medicine</td>\n",
       "      <td>If you are looking for the secret ingredient i...</td>\n",
       "    </tr>\n",
       "    <tr>\n",
       "      <th>4</th>\n",
       "      <td>5</td>\n",
       "      <td>B006K2ZZ7K</td>\n",
       "      <td>A1UQRSCLF8GW1T</td>\n",
       "      <td>Michael D. Bigham \"M. Wassir\"</td>\n",
       "      <td>0</td>\n",
       "      <td>0</td>\n",
       "      <td>1</td>\n",
       "      <td>1350777600</td>\n",
       "      <td>Great taffy</td>\n",
       "      <td>Great taffy at a great price.  There was a wid...</td>\n",
       "    </tr>\n",
       "  </tbody>\n",
       "</table>\n",
       "</div>"
      ],
      "text/plain": [
       "   Id   ProductId          UserId                      ProfileName  \\\n",
       "0   1  B001E4KFG0  A3SGXH7AUHU8GW                       delmartian   \n",
       "1   2  B00813GRG4  A1D87F6ZCVE5NK                           dll pa   \n",
       "2   3  B000LQOCH0   ABXLMWJIXXAIN  Natalia Corres \"Natalia Corres\"   \n",
       "3   4  B000UA0QIQ  A395BORC6FGVXV                             Karl   \n",
       "4   5  B006K2ZZ7K  A1UQRSCLF8GW1T    Michael D. Bigham \"M. Wassir\"   \n",
       "\n",
       "   HelpfulnessNumerator  HelpfulnessDenominator  Score        Time  \\\n",
       "0                     1                       1      1  1303862400   \n",
       "1                     0                       0      0  1346976000   \n",
       "2                     1                       1      1  1219017600   \n",
       "3                     3                       3      0  1307923200   \n",
       "4                     0                       0      1  1350777600   \n",
       "\n",
       "                 Summary                                               Text  \n",
       "0  Good Quality Dog Food  I have bought several of the Vitality canned d...  \n",
       "1      Not as Advertised  Product arrived labeled as Jumbo Salted Peanut...  \n",
       "2  \"Delight\" says it all  This is a confection that has been around a fe...  \n",
       "3         Cough Medicine  If you are looking for the secret ingredient i...  \n",
       "4            Great taffy  Great taffy at a great price.  There was a wid...  "
      ]
     },
     "execution_count": 9,
     "metadata": {},
     "output_type": "execute_result"
    }
   ],
   "source": [
    "filtered_data.head(5)"
   ]
  },
  {
   "cell_type": "code",
   "execution_count": 10,
   "metadata": {},
   "outputs": [
    {
     "data": {
      "text/plain": [
       "(100000, 10)"
      ]
     },
     "execution_count": 10,
     "metadata": {},
     "output_type": "execute_result"
    }
   ],
   "source": [
    "filtered_data.shape"
   ]
  },
  {
   "cell_type": "markdown",
   "metadata": {},
   "source": [
    "###### Removing duplicate rows, It is necessary to remove duplicates in order to get unbaised results. Checking duplicates based on UserId, ProfileName, Time, Text. If all these values are equal then we will remove those records as No user can type a review on same exact time for different products."
   ]
  },
  {
   "cell_type": "code",
   "execution_count": 11,
   "metadata": {},
   "outputs": [],
   "source": [
    "final_data = filtered_data.drop_duplicates(subset={\"UserId\",\"ProfileName\",\"Time\",\"Text\"})"
   ]
  },
  {
   "cell_type": "code",
   "execution_count": 12,
   "metadata": {},
   "outputs": [
    {
     "data": {
      "text/plain": [
       "(87775, 10)"
      ]
     },
     "execution_count": 12,
     "metadata": {},
     "output_type": "execute_result"
    }
   ],
   "source": [
    "final_data.shape"
   ]
  },
  {
   "cell_type": "markdown",
   "metadata": {},
   "source": [
    "#### HelpfulnessNumerator should always be less than or equal to HelpfulnessDenominator so checking this condition and removing those records also.\n",
    "\n"
   ]
  },
  {
   "cell_type": "code",
   "execution_count": 13,
   "metadata": {},
   "outputs": [],
   "source": [
    "final = final_data[final_data['HelpfulnessNumerator'] <= final_data['HelpfulnessDenominator']]"
   ]
  },
  {
   "cell_type": "code",
   "execution_count": 14,
   "metadata": {},
   "outputs": [
    {
     "data": {
      "text/plain": [
       "(87773, 10)"
      ]
     },
     "execution_count": 14,
     "metadata": {},
     "output_type": "execute_result"
    }
   ],
   "source": [
    "final.shape"
   ]
  },
  {
   "cell_type": "code",
   "execution_count": 15,
   "metadata": {},
   "outputs": [],
   "source": [
    "\n",
    "final.to_csv(\"foodreview.csv\", index=False)"
   ]
  },
  {
   "cell_type": "markdown",
   "metadata": {},
   "source": [
    "#### Checking how many positive and negative Reviews are present in dataset"
   ]
  },
  {
   "cell_type": "code",
   "execution_count": 16,
   "metadata": {},
   "outputs": [
    {
     "data": {
      "text/plain": [
       "1    73592\n",
       "0    14181\n",
       "Name: Score, dtype: int64"
      ]
     },
     "execution_count": 16,
     "metadata": {},
     "output_type": "execute_result"
    }
   ],
   "source": [
    "final['Score'].value_counts()"
   ]
  },
  {
   "cell_type": "markdown",
   "metadata": {},
   "source": [
    "### Cleaning the text review "
   ]
  },
  {
   "cell_type": "markdown",
   "metadata": {},
   "source": [
    " Remove url: https://stackoverflow.com/questions/11331982/how-to-remove-any-url-within-a-string-in-python/40823105#40823105"
   ]
  },
  {
   "cell_type": "markdown",
   "metadata": {},
   "source": [
    "##### Expanding english words like : I'm -> I am \n",
    "Reference: https://stackoverflow.com/questions/19790188/expanding-english-language-contractions-in-python/47091490#47091490"
   ]
  },
  {
   "cell_type": "code",
   "execution_count": 17,
   "metadata": {},
   "outputs": [
    {
     "data": {
      "text/plain": [
       "0    14181\n",
       "1    14181\n",
       "Name: Score, dtype: int64"
      ]
     },
     "execution_count": 17,
     "metadata": {},
     "output_type": "execute_result"
    }
   ],
   "source": [
    "# As every target category has different sets of records performing downsampling\n",
    "final1=final['Score']\n",
    "\n",
    "g = final.groupby(final1, group_keys=False)\n",
    "final = pd.DataFrame(g.apply(lambda x: \n",
    "x.sample(g.size().min()).\n",
    "reset_index(drop=True)))\n",
    "final['Score'].value_counts()"
   ]
  },
  {
   "cell_type": "code",
   "execution_count": 18,
   "metadata": {},
   "outputs": [
    {
     "data": {
      "text/plain": [
       "(28362, 10)"
      ]
     },
     "execution_count": 18,
     "metadata": {},
     "output_type": "execute_result"
    }
   ],
   "source": [
    "final.shape"
   ]
  },
  {
   "cell_type": "code",
   "execution_count": 19,
   "metadata": {},
   "outputs": [],
   "source": [
    "import re\n",
    "\n",
    "def decontracted(phrase):\n",
    "    # specific\n",
    "    phrase = re.sub(r\"won't\", \"will not\", phrase)\n",
    "    phrase = re.sub(r\"can\\'t\", \"can not\", phrase)\n",
    "\n",
    "    # general\n",
    "    phrase = re.sub(r\"n\\'t\", \" not\", phrase)\n",
    "    phrase = re.sub(r\"\\'re\", \" are\", phrase)\n",
    "    phrase = re.sub(r\"\\'s\", \" is\", phrase)\n",
    "    phrase = re.sub(r\"\\'d\", \" would\", phrase)\n",
    "    phrase = re.sub(r\"\\'ll\", \" will\", phrase)\n",
    "    phrase = re.sub(r\"\\'t\", \" not\", phrase)\n",
    "    phrase = re.sub(r\"\\'ve\", \" have\", phrase)\n",
    "    phrase = re.sub(r\"\\'m\", \" am\", phrase)\n",
    "    return phrase"
   ]
  },
  {
   "cell_type": "markdown",
   "metadata": {},
   "source": [
    "#### Removing any tags \n",
    "Reference: https://stackoverflow.com/questions/16206380/python-beautifulsoup-how-to-remove-all-tags-from-an-element"
   ]
  },
  {
   "cell_type": "markdown",
   "metadata": {},
   "source": [
    "##### Removing words with numbers\n",
    "Reference: https://stackoverflow.com/questions/18082130/python-regex-to-remove-all-words-which-contains-number"
   ]
  },
  {
   "cell_type": "markdown",
   "metadata": {},
   "source": [
    "##### Remove special characters, punctuation .\n",
    "https://stackoverflow.com/questions/5843518/remove-all-special-characters-punctuation-and-spaces-from-string/5843547#5843547"
   ]
  },
  {
   "cell_type": "markdown",
   "metadata": {},
   "source": [
    "##### These are all stopwaords which needs to be removed "
   ]
  },
  {
   "cell_type": "code",
   "execution_count": 20,
   "metadata": {},
   "outputs": [],
   "source": [
    "stopwords= set(['br', 'the', 'i', 'me', 'my', 'myself', 'we', 'our', 'ours', 'ourselves', 'you', \"you're\", \"you've\",\\\n",
    "            \"you'll\", \"you'd\", 'your', 'yours', 'yourself', 'yourselves', 'he', 'him', 'his', 'himself', \\\n",
    "            'she', \"she's\", 'her', 'hers', 'herself', 'it', \"it's\", 'its', 'itself', 'they', 'them', 'their',\\\n",
    "            'theirs', 'themselves', 'what', 'which', 'who', 'whom', 'this', 'that', \"that'll\", 'these', 'those', \\\n",
    "            'am', 'is', 'are', 'was', 'were', 'be', 'been', 'being', 'have', 'has', 'had', 'having', 'do', 'does', \\\n",
    "            'did', 'doing', 'a', 'an', 'the', 'and', 'but', 'if', 'or', 'because', 'as', 'until', 'while', 'of', \\\n",
    "            'at', 'by', 'for', 'with', 'about', 'against', 'between', 'into', 'through', 'during', 'before', 'after',\\\n",
    "            'above', 'below', 'to', 'from', 'up', 'down', 'in', 'out', 'on', 'off', 'over', 'under', 'again', 'further',\\\n",
    "            'then', 'once', 'here', 'there', 'when', 'where', 'why', 'how', 'all', 'any', 'both', 'each', 'few', 'more',\\\n",
    "            'most', 'other', 'some', 'such', 'only', 'own', 'same', 'so', 'than', 'too', 'very', \\\n",
    "            's', 't', 'can', 'will', 'just', 'don', \"don't\", 'should', \"should've\", 'now', 'd', 'll', 'm', 'o', 're', \\\n",
    "            've', 'y', 'ain', 'aren', \"aren't\", 'couldn', \"couldn't\", 'didn', \"didn't\", 'doesn', \"doesn't\", 'hadn',\\\n",
    "            \"hadn't\", 'hasn', \"hasn't\", 'haven', \"haven't\", 'isn', \"isn't\", 'ma', 'mightn', \"mightn't\", 'mustn',\\\n",
    "            \"mustn't\", 'needn', \"needn't\", 'shan', \"shan't\", 'shouldn', \"shouldn't\", 'wasn', \"wasn't\", 'weren', \"weren't\", \\\n",
    "            'won', \"won't\", 'wouldn', \"wouldn't\"])"
   ]
  },
  {
   "cell_type": "markdown",
   "metadata": {},
   "source": [
    "#### Creating a function to remove all the above unnecessary things from Text reviews"
   ]
  },
  {
   "cell_type": "code",
   "execution_count": 21,
   "metadata": {},
   "outputs": [],
   "source": [
    "preprocessed_reviews=[]\n",
    "from bs4 import BeautifulSoup\n",
    "for sentence in (final['Text'].values):\n",
    "    sentence = re.sub(r\"http\\S+\", \"\", sentence) # Remove http i.e. url\n",
    "    sentence = BeautifulSoup(sentence, 'lxml').get_text() # Remove tags\n",
    "    sentence = decontracted(sentence) # Expanding short english words\n",
    "    sentence = re.sub(\"\\S*\\d\\S*\", \"\", sentence).strip() # matches non whitespace charcaters zero or more times followed by non digit\n",
    "    sentence = re.sub('[^A-Za-z]+', ' ', sentence)\n",
    "    sentence = ' '.join(e.lower() for e in sentence.split() if e.lower() not in stopwords)\n",
    "    preprocessed_reviews.append(sentence.strip())"
   ]
  },
  {
   "cell_type": "markdown",
   "metadata": {},
   "source": [
    "##### Considering Score column as label (dependent variable) and preprocessed_reviews(cleaned Text) as independent variable .\n",
    "###### Checking one example of cleaned and original text review."
   ]
  },
  {
   "cell_type": "code",
   "execution_count": 22,
   "metadata": {},
   "outputs": [
    {
     "name": "stdout",
     "output_type": "stream",
     "text": [
      "not enjoy product ifelt old not hoped would returned not possible\n"
     ]
    }
   ],
   "source": [
    "label = final['Score']\n",
    "X=preprocessed_reviews\n",
    "y=label\n",
    "print(X[4])\n"
   ]
  },
  {
   "cell_type": "markdown",
   "metadata": {},
   "source": [
    "##### Splitting the data into training and test where 70% of data is training data and rest 30% is testing data"
   ]
  },
  {
   "cell_type": "code",
   "execution_count": 23,
   "metadata": {},
   "outputs": [],
   "source": [
    "from sklearn.model_selection import train_test_split\n",
    "X_train, X_test, y_train, y_test = train_test_split(X, y, test_size=0.3)"
   ]
  },
  {
   "cell_type": "markdown",
   "metadata": {},
   "source": [
    "##### Considering CountVectorizer which consider counts of frequency of words but due to ngram _range (1,1)  which will consider  single unique word  each as single entry as one column."
   ]
  },
  {
   "cell_type": "code",
   "execution_count": 24,
   "metadata": {},
   "outputs": [
    {
     "data": {
      "text/plain": [
       "CountVectorizer()"
      ]
     },
     "execution_count": 24,
     "metadata": {},
     "output_type": "execute_result"
    }
   ],
   "source": [
    "from sklearn.feature_extraction.text import CountVectorizer\n",
    "vect = CountVectorizer(ngram_range=(1, 1))\n",
    "vect"
   ]
  },
  {
   "cell_type": "markdown",
   "metadata": {},
   "source": [
    "##### Applying fit and transform of CountVectorizer on training data to get sparse matrix which contains all the unique  words as each single column and for each Text review and then converting it to array to get frequency count for each unique words in every records in Text review . i.e each record of review will have frequency count for that unique words as values."
   ]
  },
  {
   "cell_type": "code",
   "execution_count": 25,
   "metadata": {},
   "outputs": [
    {
     "data": {
      "text/plain": [
       "array([[0, 0, 0, ..., 0, 0, 0],\n",
       "       [0, 0, 0, ..., 0, 0, 0],\n",
       "       [0, 0, 0, ..., 0, 0, 0],\n",
       "       ...,\n",
       "       [0, 0, 0, ..., 0, 0, 0],\n",
       "       [0, 0, 0, ..., 0, 0, 0],\n",
       "       [0, 0, 0, ..., 0, 0, 0]], dtype=int64)"
      ]
     },
     "execution_count": 25,
     "metadata": {},
     "output_type": "execute_result"
    }
   ],
   "source": [
    "X_train_vectorized = vect.fit_transform(X_train)\n",
    "X_train_vectorized.toarray()"
   ]
  },
  {
   "cell_type": "markdown",
   "metadata": {},
   "source": [
    "##### Applying Multinomial Naive Bayes Classifier"
   ]
  },
  {
   "cell_type": "code",
   "execution_count": 26,
   "metadata": {},
   "outputs": [
    {
     "data": {
      "text/plain": [
       "MultinomialNB()"
      ]
     },
     "execution_count": 26,
     "metadata": {},
     "output_type": "execute_result"
    }
   ],
   "source": [
    "from sklearn.naive_bayes import MultinomialNB\n",
    "NB_classifier = MultinomialNB()\n",
    "NB_classifier.fit(X_train_vectorized, y_train)\n"
   ]
  },
  {
   "cell_type": "code",
   "execution_count": 27,
   "metadata": {},
   "outputs": [
    {
     "data": {
      "text/plain": [
       "<8509x27901 sparse matrix of type '<class 'numpy.int64'>'\n",
       "\twith 281199 stored elements in Compressed Sparse Row format>"
      ]
     },
     "execution_count": 27,
     "metadata": {},
     "output_type": "execute_result"
    }
   ],
   "source": [
    "vect_test = vect.transform(X_test)\n",
    "vect_test"
   ]
  },
  {
   "cell_type": "markdown",
   "metadata": {},
   "source": [
    "###### Applying Multinomial Naive Bayes Classifier"
   ]
  },
  {
   "cell_type": "code",
   "execution_count": 28,
   "metadata": {},
   "outputs": [
    {
     "name": "stdout",
     "output_type": "stream",
     "text": [
      "[[3656  634]\n",
      " [ 556 3663]]\n"
     ]
    },
    {
     "data": {
      "text/plain": [
       "<AxesSubplot:>"
      ]
     },
     "execution_count": 28,
     "metadata": {},
     "output_type": "execute_result"
    },
    {
     "data": {
      "image/png": "[encoded data removed]",
      "text/plain": [
       "<Figure size 432x288 with 2 Axes>"
      ]
     },
     "metadata": {
      "needs_background": "light"
     },
     "output_type": "display_data"
    }
   ],
   "source": [
    "y_predict_test = NB_classifier.predict(vect_test)\n",
    "y_predict_test\n",
    "from sklearn.metrics import accuracy_score,confusion_matrix\n",
    "cm = confusion_matrix(y_test, y_predict_test)\n",
    "print(cm)\n",
    "sns.heatmap(cm, annot=True)"
   ]
  },
  {
   "cell_type": "markdown",
   "metadata": {},
   "source": [
    "##### Observations: Model predicts fairly well on test data but again it incorrectly predicts 565 negative reviews as positive reviews."
   ]
  },
  {
   "cell_type": "markdown",
   "metadata": {},
   "source": [
    "###### Accuracy score on test data"
   ]
  },
  {
   "cell_type": "code",
   "execution_count": 29,
   "metadata": {},
   "outputs": [
    {
     "data": {
      "text/plain": [
       "0.8601480785051122"
      ]
     },
     "execution_count": 29,
     "metadata": {},
     "output_type": "execute_result"
    }
   ],
   "source": [
    "accuracy_score(y_test, y_predict_test)"
   ]
  },
  {
   "cell_type": "markdown",
   "metadata": {},
   "source": [
    "#### Observations: Accuracy score on test data is 86 % meaning that it predicts every 92 records correctly for every 100 records."
   ]
  },
  {
   "cell_type": "markdown",
   "metadata": {},
   "source": [
    "###### IMPROVING THE MODEL"
   ]
  },
  {
   "cell_type": "markdown",
   "metadata": {},
   "source": [
    "###### USING RANDOMIZED SEARCH CV to get best parameters for Multinominal Naive Bayes ."
   ]
  },
  {
   "cell_type": "code",
   "execution_count": 30,
   "metadata": {},
   "outputs": [],
   "source": [
    "from sklearn.model_selection import RandomizedSearchCV\n",
    "from scipy.stats import uniform as sp_rand # a uniform random variable ranging from 0 to 1 because alpha parameter in Naive Bayes has value range from 0 to 1. \n",
    "alp=MultinomialNB()\n",
    "nb_params={'alpha':sp_rand()}"
   ]
  },
  {
   "cell_type": "markdown",
   "metadata": {},
   "source": [
    "#### Creating a hyperparameter tuning function to get best parameter value for alpha "
   ]
  },
  {
   "cell_type": "code",
   "execution_count": 31,
   "metadata": {},
   "outputs": [],
   "source": [
    "def hyperparameter_tuning(alp,nb_params,iters,X,y):\n",
    "    rsearch=RandomizedSearchCV(alp,param_distributions=nb_params,n_iter=iters, cv=5, return_train_score=True, n_jobs=-1)\n",
    "    rsearch.fit(X_train_vectorized, y_train) # applying RandomizedSearchCV on data\n",
    "    ht_params=rsearch.best_params_  # getting best value for alpha parameter\n",
    "    ht_score=rsearch.best_score_  # getting score for RandomziedSearchCV\n",
    "    results=pd.DataFrame(rsearch.cv_results_)\n",
    "    return ht_params,ht_score,results"
   ]
  },
  {
   "cell_type": "code",
   "execution_count": 32,
   "metadata": {},
   "outputs": [],
   "source": [
    "nb_parameters, nb_ht_score, results=hyperparameter_tuning(alp,nb_params,7, X_train_vectorized, y_train)"
   ]
  },
  {
   "cell_type": "code",
   "execution_count": 33,
   "metadata": {},
   "outputs": [
    {
     "data": {
      "text/html": [
       "<div>\n",
       "<style scoped>\n",
       "    .dataframe tbody tr th:only-of-type {\n",
       "        vertical-align: middle;\n",
       "    }\n",
       "\n",
       "    .dataframe tbody tr th {\n",
       "        vertical-align: top;\n",
       "    }\n",
       "\n",
       "    .dataframe thead th {\n",
       "        text-align: right;\n",
       "    }\n",
       "</style>\n",
       "<table border=\"1\" class=\"dataframe\">\n",
       "  <thead>\n",
       "    <tr style=\"text-align: right;\">\n",
       "      <th></th>\n",
       "      <th>param_alpha</th>\n",
       "      <th>mean_train_score</th>\n",
       "      <th>mean_test_score</th>\n",
       "    </tr>\n",
       "  </thead>\n",
       "  <tbody>\n",
       "    <tr>\n",
       "      <th>0</th>\n",
       "      <td>0.092779</td>\n",
       "      <td>0.933738</td>\n",
       "      <td>0.842341</td>\n",
       "    </tr>\n",
       "    <tr>\n",
       "      <th>1</th>\n",
       "      <td>0.074076</td>\n",
       "      <td>0.934582</td>\n",
       "      <td>0.840729</td>\n",
       "    </tr>\n",
       "    <tr>\n",
       "      <th>2</th>\n",
       "      <td>0.790062</td>\n",
       "      <td>0.917972</td>\n",
       "      <td>0.854329</td>\n",
       "    </tr>\n",
       "    <tr>\n",
       "      <th>3</th>\n",
       "      <td>0.96815</td>\n",
       "      <td>0.916222</td>\n",
       "      <td>0.854833</td>\n",
       "    </tr>\n",
       "    <tr>\n",
       "      <th>4</th>\n",
       "      <td>0.774276</td>\n",
       "      <td>0.918148</td>\n",
       "      <td>0.854228</td>\n",
       "    </tr>\n",
       "    <tr>\n",
       "      <th>5</th>\n",
       "      <td>0.800295</td>\n",
       "      <td>0.917947</td>\n",
       "      <td>0.854380</td>\n",
       "    </tr>\n",
       "    <tr>\n",
       "      <th>6</th>\n",
       "      <td>0.41843</td>\n",
       "      <td>0.923840</td>\n",
       "      <td>0.851055</td>\n",
       "    </tr>\n",
       "  </tbody>\n",
       "</table>\n",
       "</div>"
      ],
      "text/plain": [
       "  param_alpha  mean_train_score  mean_test_score\n",
       "0    0.092779          0.933738         0.842341\n",
       "1    0.074076          0.934582         0.840729\n",
       "2    0.790062          0.917972         0.854329\n",
       "3     0.96815          0.916222         0.854833\n",
       "4    0.774276          0.918148         0.854228\n",
       "5    0.800295          0.917947         0.854380\n",
       "6     0.41843          0.923840         0.851055"
      ]
     },
     "execution_count": 33,
     "metadata": {},
     "output_type": "execute_result"
    }
   ],
   "source": [
    "results[['param_alpha','mean_train_score','mean_test_score']]"
   ]
  },
  {
   "cell_type": "markdown",
   "metadata": {},
   "source": [
    "###### Getting best parameter values\n"
   ]
  },
  {
   "cell_type": "code",
   "execution_count": 34,
   "metadata": {},
   "outputs": [
    {
     "data": {
      "text/plain": [
       "{'alpha': 0.9681504550093024}"
      ]
     },
     "execution_count": 34,
     "metadata": {},
     "output_type": "execute_result"
    }
   ],
   "source": [
    "nb_parameters"
   ]
  },
  {
   "cell_type": "markdown",
   "metadata": {},
   "source": [
    "##### Getting the score for RandomizedSearchCV "
   ]
  },
  {
   "cell_type": "code",
   "execution_count": 35,
   "metadata": {},
   "outputs": [
    {
     "data": {
      "text/plain": [
       "0.8548328530460447"
      ]
     },
     "execution_count": 35,
     "metadata": {},
     "output_type": "execute_result"
    }
   ],
   "source": [
    "nb_ht_score"
   ]
  },
  {
   "cell_type": "markdown",
   "metadata": {},
   "source": [
    "###### Score is 85"
   ]
  },
  {
   "cell_type": "markdown",
   "metadata": {},
   "source": [
    "###### Confusion Matrix"
   ]
  },
  {
   "cell_type": "code",
   "execution_count": 36,
   "metadata": {},
   "outputs": [
    {
     "name": "stdout",
     "output_type": "stream",
     "text": [
      "[[3656  634]\n",
      " [ 555 3664]]\n"
     ]
    },
    {
     "data": {
      "text/plain": [
       "<AxesSubplot:>"
      ]
     },
     "execution_count": 36,
     "metadata": {},
     "output_type": "execute_result"
    },
    {
     "data": {
      "image/png": "[encoded data removed]",
      "text/plain": [
       "<Figure size 432x288 with 2 Axes>"
      ]
     },
     "metadata": {
      "needs_background": "light"
     },
     "output_type": "display_data"
    }
   ],
   "source": [
    "NB_classifier = MultinomialNB(alpha=0.96815)\n",
    "NB_classifier.fit(X_train_vectorized, y_train)\n",
    "y_predict_test = NB_classifier.predict(vect_test)\n",
    "y_predict_test\n",
    "cm = confusion_matrix(y_test, y_predict_test)\n",
    "print(cm)\n",
    "sns.heatmap(cm, annot=True)"
   ]
  },
  {
   "cell_type": "markdown",
   "metadata": {},
   "source": [
    "##### Observations: Model after using hyperparameter tuning gives fairly well predictions "
   ]
  },
  {
   "cell_type": "markdown",
   "metadata": {},
   "source": [
    "###### Getting Accuracy Score"
   ]
  },
  {
   "cell_type": "code",
   "execution_count": 37,
   "metadata": {},
   "outputs": [
    {
     "data": {
      "text/plain": [
       "0.8602656011282171"
      ]
     },
     "execution_count": 37,
     "metadata": {},
     "output_type": "execute_result"
    }
   ],
   "source": [
    "accuracy_score(y_test, y_predict_test)"
   ]
  },
  {
   "cell_type": "markdown",
   "metadata": {},
   "source": [
    "###### Observations: Accuracy Score is almost 86 % meaning 86 records for every 100 are correctly classified which improved the model accuracy  by 1%."
   ]
  },
  {
   "cell_type": "code",
   "execution_count": 42,
   "metadata": {},
   "outputs": [
    {
     "data": {
      "text/plain": [
       "0.85248953001396"
      ]
     },
     "execution_count": 42,
     "metadata": {},
     "output_type": "execute_result"
    }
   ],
   "source": [
    "from sklearn.metrics import precision_score\n",
    "precision_score(y_test, y_predict_test)"
   ]
  },
  {
   "cell_type": "code",
   "execution_count": 44,
   "metadata": {},
   "outputs": [
    {
     "data": {
      "text/plain": [
       "0.8684522398672672"
      ]
     },
     "execution_count": 44,
     "metadata": {},
     "output_type": "execute_result"
    }
   ],
   "source": [
    "from sklearn.metrics import recall_score\n",
    "recall_score(y_test, y_predict_test)"
   ]
  },
  {
   "cell_type": "code",
   "execution_count": 43,
   "metadata": {},
   "outputs": [
    {
     "data": {
      "text/plain": [
       "0.8603968533521194"
      ]
     },
     "execution_count": 43,
     "metadata": {},
     "output_type": "execute_result"
    }
   ],
   "source": [
    "from sklearn.metrics import f1_score\n",
    "f1_score(y_test, y_predict_test)"
   ]
  },
  {
   "cell_type": "markdown",
   "metadata": {},
   "source": [
    "#### Checking the model on random review "
   ]
  },
  {
   "cell_type": "code",
   "execution_count": 38,
   "metadata": {},
   "outputs": [
    {
     "data": {
      "text/plain": [
       "array([1], dtype=int64)"
      ]
     },
     "execution_count": 38,
     "metadata": {},
     "output_type": "execute_result"
    }
   ],
   "source": [
    "testing_sample = ['food is tasty!']\n",
    "testing_sample_countvectorizer = vect.transform(testing_sample)\n",
    "test_predict = NB_classifier.predict(testing_sample_countvectorizer)\n",
    "test_predict"
   ]
  },
  {
   "cell_type": "markdown",
   "metadata": {},
   "source": [
    "##### Observations: Model correctly predicts random review as positive."
   ]
  },
  {
   "cell_type": "code",
   "execution_count": 54,
   "metadata": {},
   "outputs": [],
   "source": [
    "# Logistic Regression with Count Vectorizer (Bag of Words)\n",
    "from sklearn.linear_model import LogisticRegression\n",
    "clf = LogisticRegression(random_state=0).fit(X_train_vectorized, y_train)"
   ]
  },
  {
   "cell_type": "code",
   "execution_count": 55,
   "metadata": {},
   "outputs": [
    {
     "name": "stdout",
     "output_type": "stream",
     "text": [
      "[[3730  560]\n",
      " [ 558 3661]]\n"
     ]
    },
    {
     "data": {
      "text/plain": [
       "<AxesSubplot:>"
      ]
     },
     "execution_count": 55,
     "metadata": {},
     "output_type": "execute_result"
    },
    {
     "data": {
      "image/png": "[encoded data removed]",
      "text/plain": [
       "<Figure size 432x288 with 2 Axes>"
      ]
     },
     "metadata": {
      "needs_background": "light"
     },
     "output_type": "display_data"
    }
   ],
   "source": [
    "y_predict_test = clf.predict(vect_test)\n",
    "y_predict_test\n",
    "from sklearn.metrics import accuracy_score,confusion_matrix\n",
    "cm = confusion_matrix(y_test, y_predict_test)\n",
    "print(cm)\n",
    "sns.heatmap(cm, annot=True)"
   ]
  },
  {
   "cell_type": "code",
   "execution_count": 56,
   "metadata": {},
   "outputs": [
    {
     "data": {
      "text/plain": [
       "0.8686097073686685"
      ]
     },
     "execution_count": 56,
     "metadata": {},
     "output_type": "execute_result"
    }
   ],
   "source": [
    "# Accuracy on test data\n",
    "accuracy_score(y_test, y_predict_test)"
   ]
  },
  {
   "cell_type": "code",
   "execution_count": 57,
   "metadata": {},
   "outputs": [
    {
     "data": {
      "text/plain": [
       "0.867330016583748"
      ]
     },
     "execution_count": 57,
     "metadata": {},
     "output_type": "execute_result"
    }
   ],
   "source": [
    "from sklearn.metrics import precision_score\n",
    "precision_score(y_test, y_predict_test)"
   ]
  },
  {
   "cell_type": "code",
   "execution_count": 58,
   "metadata": {},
   "outputs": [
    {
     "data": {
      "text/plain": [
       "0.8677411708935767"
      ]
     },
     "execution_count": 58,
     "metadata": {},
     "output_type": "execute_result"
    }
   ],
   "source": [
    "from sklearn.metrics import recall_score\n",
    "recall_score(y_test, y_predict_test)"
   ]
  },
  {
   "cell_type": "code",
   "execution_count": 59,
   "metadata": {},
   "outputs": [
    {
     "data": {
      "text/plain": [
       "0.8675355450236967"
      ]
     },
     "execution_count": 59,
     "metadata": {},
     "output_type": "execute_result"
    }
   ],
   "source": [
    "from sklearn.metrics import f1_score\n",
    "f1_score(y_test, y_predict_test)"
   ]
  },
  {
   "cell_type": "markdown",
   "metadata": {},
   "source": [
    "###### Another random review testing on model."
   ]
  },
  {
   "cell_type": "code",
   "execution_count": 61,
   "metadata": {},
   "outputs": [
    {
     "data": {
      "text/plain": [
       "array([0], dtype=int64)"
      ]
     },
     "execution_count": 61,
     "metadata": {},
     "output_type": "execute_result"
    }
   ],
   "source": [
    "testing_sample1 = ['food was old and smelling odor']\n",
    "testing_sample_countvectorizer1 = vect.transform(testing_sample1)\n",
    "test_predict = clf.predict(testing_sample_countvectorizer1)\n",
    "test_predict"
   ]
  },
  {
   "cell_type": "markdown",
   "metadata": {},
   "source": [
    "##### Observations: Model correctly predicts random review as negative"
   ]
  },
  {
   "cell_type": "markdown",
   "metadata": {},
   "source": [
    "# TFIDF (TERM FREQUENCY INVERSE DOCUMENT FREQUENCY)"
   ]
  },
  {
   "cell_type": "markdown",
   "metadata": {},
   "source": [
    "<center>\n",
    "<img src=\"ipynb.images/TFIDF.png\" width=500 />\n",
    "</center>"
   ]
  },
  {
   "cell_type": "markdown",
   "metadata": {},
   "source": [
    "#### Applying TFIDF Vectorizer to convert raw test review into TFIDF matrix features.\n",
    "### TF : Term Frequency is count of words in document \n",
    "#### IDF : Inverse Document Frequency is Total no. of records of text reviews/ Frequency of word appearing in total of whole text reviews\n",
    "#### TFIDF= TF*IDF"
   ]
  },
  {
   "cell_type": "markdown",
   "metadata": {},
   "source": [
    "###### Here Using TFIDF Vectorizer where considering single word, combination of 2 words , combination of 3 words and combination of 4 words each as single entry as columns."
   ]
  },
  {
   "cell_type": "code",
   "execution_count": 62,
   "metadata": {},
   "outputs": [
    {
     "name": "stdout",
     "output_type": "stream",
     "text": [
      "(19853, 12976)\n"
     ]
    }
   ],
   "source": [
    "from sklearn.feature_extraction.text import TfidfVectorizer\n",
    "tfidf = TfidfVectorizer(ngram_range=(1,4), min_df=10)\n",
    "X_Train_TFIDF=tfidf.fit_transform(X_train)\n",
    "print(X_Train_TFIDF.shape)"
   ]
  },
  {
   "cell_type": "markdown",
   "metadata": {},
   "source": [
    "##### Suggesting 32249 records of reviews are in training test and 20467 combination of unique words are columns."
   ]
  },
  {
   "cell_type": "markdown",
   "metadata": {},
   "source": [
    "##### Applying Multinomial Naive Bayes Classifier on training data"
   ]
  },
  {
   "cell_type": "code",
   "execution_count": 63,
   "metadata": {},
   "outputs": [
    {
     "data": {
      "text/plain": [
       "MultinomialNB()"
      ]
     },
     "execution_count": 63,
     "metadata": {},
     "output_type": "execute_result"
    }
   ],
   "source": [
    "from sklearn.naive_bayes import MultinomialNB\n",
    "NB_classifier = MultinomialNB()\n",
    "NB_classifier.fit(X_Train_TFIDF, y_train)"
   ]
  },
  {
   "cell_type": "code",
   "execution_count": 64,
   "metadata": {},
   "outputs": [
    {
     "data": {
      "text/plain": [
       "<8509x12976 sparse matrix of type '<class 'numpy.float64'>'\n",
       "\twith 338383 stored elements in Compressed Sparse Row format>"
      ]
     },
     "execution_count": 64,
     "metadata": {},
     "output_type": "execute_result"
    }
   ],
   "source": [
    "tfidf_test = tfidf.transform(X_test)\n",
    "tfidf_test"
   ]
  },
  {
   "cell_type": "code",
   "execution_count": 65,
   "metadata": {},
   "outputs": [
    {
     "name": "stdout",
     "output_type": "stream",
     "text": [
      "[[3777  513]\n",
      " [ 486 3733]]\n"
     ]
    },
    {
     "data": {
      "text/plain": [
       "<AxesSubplot:>"
      ]
     },
     "execution_count": 65,
     "metadata": {},
     "output_type": "execute_result"
    },
    {
     "data": {
      "image/png": "[encoded data removed]",
      "text/plain": [
       "<Figure size 432x288 with 2 Axes>"
      ]
     },
     "metadata": {
      "needs_background": "light"
     },
     "output_type": "display_data"
    }
   ],
   "source": [
    "y_predict = NB_classifier.predict(tfidf_test)\n",
    "y_predict\n",
    "cm = confusion_matrix(y_test, y_predict)\n",
    "print(cm)\n",
    "sns.heatmap(cm, annot=True)"
   ]
  },
  {
   "cell_type": "markdown",
   "metadata": {},
   "source": [
    "##### Accuracy Score"
   ]
  },
  {
   "cell_type": "code",
   "execution_count": 66,
   "metadata": {},
   "outputs": [
    {
     "data": {
      "text/plain": [
       "0.8825948995181573"
      ]
     },
     "execution_count": 66,
     "metadata": {},
     "output_type": "execute_result"
    }
   ],
   "source": [
    "accuracy_score(y_test, y_predict)"
   ]
  },
  {
   "cell_type": "markdown",
   "metadata": {},
   "source": [
    "#### Observations: Model Accuracy Score is 88 % ."
   ]
  },
  {
   "cell_type": "markdown",
   "metadata": {},
   "source": [
    "#### Improving the model using RandomziedSearchCV to get best parameters"
   ]
  },
  {
   "cell_type": "code",
   "execution_count": 68,
   "metadata": {},
   "outputs": [],
   "source": [
    "nb_parameters, nb_ht_score, results=hyperparameter_tuning(alp,nb_params,7, X_Train_TFIDF, y_train)"
   ]
  },
  {
   "cell_type": "code",
   "execution_count": 69,
   "metadata": {},
   "outputs": [
    {
     "data": {
      "text/plain": [
       "{'alpha': 0.9150205108581875}"
      ]
     },
     "execution_count": 69,
     "metadata": {},
     "output_type": "execute_result"
    }
   ],
   "source": [
    "nb_parameters"
   ]
  },
  {
   "cell_type": "code",
   "execution_count": 70,
   "metadata": {},
   "outputs": [
    {
     "data": {
      "text/plain": [
       "0.8541277029242866"
      ]
     },
     "execution_count": 70,
     "metadata": {},
     "output_type": "execute_result"
    }
   ],
   "source": [
    "nb_ht_score"
   ]
  },
  {
   "cell_type": "code",
   "execution_count": 71,
   "metadata": {},
   "outputs": [
    {
     "data": {
      "text/html": [
       "<div>\n",
       "<style scoped>\n",
       "    .dataframe tbody tr th:only-of-type {\n",
       "        vertical-align: middle;\n",
       "    }\n",
       "\n",
       "    .dataframe tbody tr th {\n",
       "        vertical-align: top;\n",
       "    }\n",
       "\n",
       "    .dataframe thead th {\n",
       "        text-align: right;\n",
       "    }\n",
       "</style>\n",
       "<table border=\"1\" class=\"dataframe\">\n",
       "  <thead>\n",
       "    <tr style=\"text-align: right;\">\n",
       "      <th></th>\n",
       "      <th>param_alpha</th>\n",
       "      <th>mean_train_score</th>\n",
       "      <th>mean_test_score</th>\n",
       "    </tr>\n",
       "  </thead>\n",
       "  <tbody>\n",
       "    <tr>\n",
       "      <th>0</th>\n",
       "      <td>0.915021</td>\n",
       "      <td>0.916725</td>\n",
       "      <td>0.854128</td>\n",
       "    </tr>\n",
       "    <tr>\n",
       "      <th>1</th>\n",
       "      <td>0.512904</td>\n",
       "      <td>0.922178</td>\n",
       "      <td>0.851660</td>\n",
       "    </tr>\n",
       "    <tr>\n",
       "      <th>2</th>\n",
       "      <td>0.587568</td>\n",
       "      <td>0.921120</td>\n",
       "      <td>0.852415</td>\n",
       "    </tr>\n",
       "    <tr>\n",
       "      <th>3</th>\n",
       "      <td>0.650223</td>\n",
       "      <td>0.920037</td>\n",
       "      <td>0.852667</td>\n",
       "    </tr>\n",
       "    <tr>\n",
       "      <th>4</th>\n",
       "      <td>0.227662</td>\n",
       "      <td>0.928185</td>\n",
       "      <td>0.848234</td>\n",
       "    </tr>\n",
       "    <tr>\n",
       "      <th>5</th>\n",
       "      <td>0.223874</td>\n",
       "      <td>0.928248</td>\n",
       "      <td>0.848335</td>\n",
       "    </tr>\n",
       "    <tr>\n",
       "      <th>6</th>\n",
       "      <td>0.373511</td>\n",
       "      <td>0.924697</td>\n",
       "      <td>0.850602</td>\n",
       "    </tr>\n",
       "  </tbody>\n",
       "</table>\n",
       "</div>"
      ],
      "text/plain": [
       "  param_alpha  mean_train_score  mean_test_score\n",
       "0    0.915021          0.916725         0.854128\n",
       "1    0.512904          0.922178         0.851660\n",
       "2    0.587568          0.921120         0.852415\n",
       "3    0.650223          0.920037         0.852667\n",
       "4    0.227662          0.928185         0.848234\n",
       "5    0.223874          0.928248         0.848335\n",
       "6    0.373511          0.924697         0.850602"
      ]
     },
     "execution_count": 71,
     "metadata": {},
     "output_type": "execute_result"
    }
   ],
   "source": [
    "results[['param_alpha','mean_train_score','mean_test_score']]"
   ]
  },
  {
   "cell_type": "code",
   "execution_count": 72,
   "metadata": {},
   "outputs": [
    {
     "name": "stdout",
     "output_type": "stream",
     "text": [
      "[[3779  511]\n",
      " [ 488 3731]]\n"
     ]
    },
    {
     "data": {
      "text/plain": [
       "<AxesSubplot:>"
      ]
     },
     "execution_count": 72,
     "metadata": {},
     "output_type": "execute_result"
    },
    {
     "data": {
      "image/png": "[encoded data removed]",
      "text/plain": [
       "<Figure size 432x288 with 2 Axes>"
      ]
     },
     "metadata": {
      "needs_background": "light"
     },
     "output_type": "display_data"
    }
   ],
   "source": [
    "NB_classifier = MultinomialNB(alpha=0.915)\n",
    "NB_classifier.fit(X_Train_TFIDF, y_train)\n",
    "y_predict_test = NB_classifier.predict(tfidf_test)\n",
    "y_predict_test\n",
    "cm = confusion_matrix(y_test, y_predict_test)\n",
    "print(cm)\n",
    "sns.heatmap(cm, annot=True)"
   ]
  },
  {
   "cell_type": "markdown",
   "metadata": {},
   "source": [
    "###### Accuracy Score"
   ]
  },
  {
   "cell_type": "code",
   "execution_count": 73,
   "metadata": {},
   "outputs": [
    {
     "data": {
      "text/plain": [
       "0.8825948995181573"
      ]
     },
     "execution_count": 73,
     "metadata": {},
     "output_type": "execute_result"
    }
   ],
   "source": [
    "accuracy_score(y_test, y_predict_test)"
   ]
  },
  {
   "cell_type": "code",
   "execution_count": 74,
   "metadata": {},
   "outputs": [
    {
     "data": {
      "text/plain": [
       "0.8795379537953796"
      ]
     },
     "execution_count": 74,
     "metadata": {},
     "output_type": "execute_result"
    }
   ],
   "source": [
    "from sklearn.metrics import precision_score\n",
    "precision_score(y_test, y_predict_test)"
   ]
  },
  {
   "cell_type": "code",
   "execution_count": 75,
   "metadata": {},
   "outputs": [
    {
     "data": {
      "text/plain": [
       "0.8843327802796871"
      ]
     },
     "execution_count": 75,
     "metadata": {},
     "output_type": "execute_result"
    }
   ],
   "source": [
    "from sklearn.metrics import recall_score\n",
    "recall_score(y_test, y_predict_test)"
   ]
  },
  {
   "cell_type": "code",
   "execution_count": 76,
   "metadata": {},
   "outputs": [
    {
     "data": {
      "text/plain": [
       "0.8819288500177282"
      ]
     },
     "execution_count": 76,
     "metadata": {},
     "output_type": "execute_result"
    }
   ],
   "source": [
    "from sklearn.metrics import f1_score\n",
    "f1_score(y_test, y_predict_test)"
   ]
  },
  {
   "cell_type": "markdown",
   "metadata": {},
   "source": [
    "# Decision Tree with TFIDF"
   ]
  },
  {
   "cell_type": "code",
   "execution_count": 88,
   "metadata": {},
   "outputs": [],
   "source": [
    "\n",
    "from sklearn.tree import DecisionTreeClassifier\n",
    "dtc=DecisionTreeClassifier()\n",
    "random_grid_dt={'max_depth':[2,4,6,8,12,15,18,20,25],\n",
    "                'splitter':['best', 'random'],\n",
    "             'criterion':['gini','entropy']\n",
    "             }\n"
   ]
  },
  {
   "cell_type": "code",
   "execution_count": 89,
   "metadata": {},
   "outputs": [],
   "source": [
    "dt_parameters, dt_ht_score,results_dt=hyperparameter_tuning(dtc,random_grid_dt,10, X_Train_TFIDF, y_train)"
   ]
  },
  {
   "cell_type": "code",
   "execution_count": 90,
   "metadata": {},
   "outputs": [
    {
     "data": {
      "text/html": [
       "<div>\n",
       "<style scoped>\n",
       "    .dataframe tbody tr th:only-of-type {\n",
       "        vertical-align: middle;\n",
       "    }\n",
       "\n",
       "    .dataframe tbody tr th {\n",
       "        vertical-align: top;\n",
       "    }\n",
       "\n",
       "    .dataframe thead th {\n",
       "        text-align: right;\n",
       "    }\n",
       "</style>\n",
       "<table border=\"1\" class=\"dataframe\">\n",
       "  <thead>\n",
       "    <tr style=\"text-align: right;\">\n",
       "      <th></th>\n",
       "      <th>param_splitter</th>\n",
       "      <th>param_max_depth</th>\n",
       "      <th>param_criterion</th>\n",
       "      <th>mean_test_score</th>\n",
       "      <th>mean_train_score</th>\n",
       "    </tr>\n",
       "  </thead>\n",
       "  <tbody>\n",
       "    <tr>\n",
       "      <th>0</th>\n",
       "      <td>best</td>\n",
       "      <td>4</td>\n",
       "      <td>gini</td>\n",
       "      <td>0.672896</td>\n",
       "      <td>0.680350</td>\n",
       "    </tr>\n",
       "    <tr>\n",
       "      <th>1</th>\n",
       "      <td>best</td>\n",
       "      <td>20</td>\n",
       "      <td>entropy</td>\n",
       "      <td>0.736311</td>\n",
       "      <td>0.851420</td>\n",
       "    </tr>\n",
       "    <tr>\n",
       "      <th>2</th>\n",
       "      <td>best</td>\n",
       "      <td>6</td>\n",
       "      <td>gini</td>\n",
       "      <td>0.678084</td>\n",
       "      <td>0.697237</td>\n",
       "    </tr>\n",
       "    <tr>\n",
       "      <th>3</th>\n",
       "      <td>random</td>\n",
       "      <td>8</td>\n",
       "      <td>entropy</td>\n",
       "      <td>0.677984</td>\n",
       "      <td>0.696066</td>\n",
       "    </tr>\n",
       "    <tr>\n",
       "      <th>4</th>\n",
       "      <td>best</td>\n",
       "      <td>20</td>\n",
       "      <td>gini</td>\n",
       "      <td>0.739435</td>\n",
       "      <td>0.867992</td>\n",
       "    </tr>\n",
       "    <tr>\n",
       "      <th>5</th>\n",
       "      <td>random</td>\n",
       "      <td>18</td>\n",
       "      <td>entropy</td>\n",
       "      <td>0.726389</td>\n",
       "      <td>0.811074</td>\n",
       "    </tr>\n",
       "    <tr>\n",
       "      <th>6</th>\n",
       "      <td>best</td>\n",
       "      <td>2</td>\n",
       "      <td>entropy</td>\n",
       "      <td>0.653604</td>\n",
       "      <td>0.653604</td>\n",
       "    </tr>\n",
       "    <tr>\n",
       "      <th>7</th>\n",
       "      <td>random</td>\n",
       "      <td>2</td>\n",
       "      <td>gini</td>\n",
       "      <td>0.593565</td>\n",
       "      <td>0.596005</td>\n",
       "    </tr>\n",
       "    <tr>\n",
       "      <th>8</th>\n",
       "      <td>best</td>\n",
       "      <td>18</td>\n",
       "      <td>entropy</td>\n",
       "      <td>0.732081</td>\n",
       "      <td>0.833992</td>\n",
       "    </tr>\n",
       "    <tr>\n",
       "      <th>9</th>\n",
       "      <td>best</td>\n",
       "      <td>15</td>\n",
       "      <td>entropy</td>\n",
       "      <td>0.726036</td>\n",
       "      <td>0.805961</td>\n",
       "    </tr>\n",
       "  </tbody>\n",
       "</table>\n",
       "</div>"
      ],
      "text/plain": [
       "  param_splitter param_max_depth param_criterion  mean_test_score  \\\n",
       "0           best               4            gini         0.672896   \n",
       "1           best              20         entropy         0.736311   \n",
       "2           best               6            gini         0.678084   \n",
       "3         random               8         entropy         0.677984   \n",
       "4           best              20            gini         0.739435   \n",
       "5         random              18         entropy         0.726389   \n",
       "6           best               2         entropy         0.653604   \n",
       "7         random               2            gini         0.593565   \n",
       "8           best              18         entropy         0.732081   \n",
       "9           best              15         entropy         0.726036   \n",
       "\n",
       "   mean_train_score  \n",
       "0          0.680350  \n",
       "1          0.851420  \n",
       "2          0.697237  \n",
       "3          0.696066  \n",
       "4          0.867992  \n",
       "5          0.811074  \n",
       "6          0.653604  \n",
       "7          0.596005  \n",
       "8          0.833992  \n",
       "9          0.805961  "
      ]
     },
     "execution_count": 90,
     "metadata": {},
     "output_type": "execute_result"
    }
   ],
   "source": [
    "results_dt[['param_splitter','param_max_depth','param_criterion','mean_test_score','mean_train_score']]"
   ]
  },
  {
   "cell_type": "code",
   "execution_count": 91,
   "metadata": {},
   "outputs": [
    {
     "name": "stdout",
     "output_type": "stream",
     "text": [
      "[[3496  794]\n",
      " [1487 2732]]\n"
     ]
    },
    {
     "data": {
      "text/plain": [
       "<AxesSubplot:>"
      ]
     },
     "execution_count": 91,
     "metadata": {},
     "output_type": "execute_result"
    },
    {
     "data": {
      "image/png": "[encoded data removed]",
      "text/plain": [
       "<Figure size 432x288 with 2 Axes>"
      ]
     },
     "metadata": {
      "needs_background": "light"
     },
     "output_type": "display_data"
    }
   ],
   "source": [
    "dtc1=DecisionTreeClassifier(criterion='entropy', max_depth=18 ,splitter='best')\n",
    "dtc1.fit( X_Train_TFIDF, y_train)\n",
    "y_predict_test = dtc1.predict(tfidf_test)\n",
    "y_predict_test\n",
    "cm = confusion_matrix(y_test, y_predict_test)\n",
    "print(cm)\n",
    "sns.heatmap(cm, annot=True)"
   ]
  },
  {
   "cell_type": "code",
   "execution_count": 92,
   "metadata": {},
   "outputs": [
    {
     "data": {
      "text/plain": [
       "0.7319308966976142"
      ]
     },
     "execution_count": 92,
     "metadata": {},
     "output_type": "execute_result"
    }
   ],
   "source": [
    "accuracy_score(y_test, y_predict_test)"
   ]
  },
  {
   "cell_type": "code",
   "execution_count": 93,
   "metadata": {},
   "outputs": [
    {
     "data": {
      "text/plain": [
       "0.7748156551332955"
      ]
     },
     "execution_count": 93,
     "metadata": {},
     "output_type": "execute_result"
    }
   ],
   "source": [
    "from sklearn.metrics import precision_score\n",
    "precision_score(y_test, y_predict_test)"
   ]
  },
  {
   "cell_type": "code",
   "execution_count": 94,
   "metadata": {},
   "outputs": [
    {
     "data": {
      "text/plain": [
       "0.6475468120407679"
      ]
     },
     "execution_count": 94,
     "metadata": {},
     "output_type": "execute_result"
    }
   ],
   "source": [
    "from sklearn.metrics import recall_score\n",
    "recall_score(y_test, y_predict_test)"
   ]
  },
  {
   "cell_type": "code",
   "execution_count": 95,
   "metadata": {},
   "outputs": [
    {
     "data": {
      "text/plain": [
       "0.7054874112330536"
      ]
     },
     "execution_count": 95,
     "metadata": {},
     "output_type": "execute_result"
    }
   ],
   "source": [
    "from sklearn.metrics import f1_score\n",
    "f1_score(y_test, y_predict_test)"
   ]
  },
  {
   "cell_type": "markdown",
   "metadata": {},
   "source": [
    "# Random Forest with tfidf"
   ]
  },
  {
   "cell_type": "code",
   "execution_count": 101,
   "metadata": {},
   "outputs": [],
   "source": [
    "\n",
    "\n",
    "from sklearn.ensemble import RandomForestClassifier\n",
    "est=RandomForestClassifier(n_jobs=-1)\n",
    "random_grid={'max_depth':[2,4,6,8,12,15,18,20,25],\n",
    "            'n_estimators':[5,10,50,100,200,300,350,400,500,600],\n",
    "             'criterion':['gini','entropy'],\n",
    "             'bootstrap': [True,False]}"
   ]
  },
  {
   "cell_type": "code",
   "execution_count": 102,
   "metadata": {},
   "outputs": [],
   "source": [
    "rf_parameters, rf_ht_score,results=hyperparameter_tuning(est,random_grid,8,X_Train_TFIDF, y_train) "
   ]
  },
  {
   "cell_type": "code",
   "execution_count": 103,
   "metadata": {},
   "outputs": [
    {
     "data": {
      "text/html": [
       "<div>\n",
       "<style scoped>\n",
       "    .dataframe tbody tr th:only-of-type {\n",
       "        vertical-align: middle;\n",
       "    }\n",
       "\n",
       "    .dataframe tbody tr th {\n",
       "        vertical-align: top;\n",
       "    }\n",
       "\n",
       "    .dataframe thead th {\n",
       "        text-align: right;\n",
       "    }\n",
       "</style>\n",
       "<table border=\"1\" class=\"dataframe\">\n",
       "  <thead>\n",
       "    <tr style=\"text-align: right;\">\n",
       "      <th></th>\n",
       "      <th>param_max_depth</th>\n",
       "      <th>param_n_estimators</th>\n",
       "      <th>param_criterion</th>\n",
       "      <th>mean_train_score</th>\n",
       "      <th>mean_test_score</th>\n",
       "    </tr>\n",
       "  </thead>\n",
       "  <tbody>\n",
       "    <tr>\n",
       "      <th>0</th>\n",
       "      <td>6</td>\n",
       "      <td>10</td>\n",
       "      <td>gini</td>\n",
       "      <td>0.705259</td>\n",
       "      <td>0.680602</td>\n",
       "    </tr>\n",
       "    <tr>\n",
       "      <th>1</th>\n",
       "      <td>15</td>\n",
       "      <td>350</td>\n",
       "      <td>entropy</td>\n",
       "      <td>0.882864</td>\n",
       "      <td>0.830101</td>\n",
       "    </tr>\n",
       "    <tr>\n",
       "      <th>2</th>\n",
       "      <td>15</td>\n",
       "      <td>400</td>\n",
       "      <td>gini</td>\n",
       "      <td>0.886969</td>\n",
       "      <td>0.830705</td>\n",
       "    </tr>\n",
       "    <tr>\n",
       "      <th>3</th>\n",
       "      <td>6</td>\n",
       "      <td>400</td>\n",
       "      <td>entropy</td>\n",
       "      <td>0.834370</td>\n",
       "      <td>0.805520</td>\n",
       "    </tr>\n",
       "    <tr>\n",
       "      <th>4</th>\n",
       "      <td>18</td>\n",
       "      <td>50</td>\n",
       "      <td>gini</td>\n",
       "      <td>0.879137</td>\n",
       "      <td>0.809449</td>\n",
       "    </tr>\n",
       "    <tr>\n",
       "      <th>5</th>\n",
       "      <td>6</td>\n",
       "      <td>200</td>\n",
       "      <td>entropy</td>\n",
       "      <td>0.829686</td>\n",
       "      <td>0.808392</td>\n",
       "    </tr>\n",
       "    <tr>\n",
       "      <th>6</th>\n",
       "      <td>20</td>\n",
       "      <td>100</td>\n",
       "      <td>entropy</td>\n",
       "      <td>0.906223</td>\n",
       "      <td>0.827884</td>\n",
       "    </tr>\n",
       "    <tr>\n",
       "      <th>7</th>\n",
       "      <td>25</td>\n",
       "      <td>300</td>\n",
       "      <td>gini</td>\n",
       "      <td>0.935060</td>\n",
       "      <td>0.838009</td>\n",
       "    </tr>\n",
       "  </tbody>\n",
       "</table>\n",
       "</div>"
      ],
      "text/plain": [
       "  param_max_depth param_n_estimators param_criterion  mean_train_score  \\\n",
       "0               6                 10            gini          0.705259   \n",
       "1              15                350         entropy          0.882864   \n",
       "2              15                400            gini          0.886969   \n",
       "3               6                400         entropy          0.834370   \n",
       "4              18                 50            gini          0.879137   \n",
       "5               6                200         entropy          0.829686   \n",
       "6              20                100         entropy          0.906223   \n",
       "7              25                300            gini          0.935060   \n",
       "\n",
       "   mean_test_score  \n",
       "0         0.680602  \n",
       "1         0.830101  \n",
       "2         0.830705  \n",
       "3         0.805520  \n",
       "4         0.809449  \n",
       "5         0.808392  \n",
       "6         0.827884  \n",
       "7         0.838009  "
      ]
     },
     "execution_count": 103,
     "metadata": {},
     "output_type": "execute_result"
    }
   ],
   "source": [
    "results[['param_max_depth','param_n_estimators','param_criterion','mean_train_score','mean_test_score']]"
   ]
  },
  {
   "cell_type": "code",
   "execution_count": 104,
   "metadata": {},
   "outputs": [
    {
     "name": "stdout",
     "output_type": "stream",
     "text": [
      "[[3419  871]\n",
      " [ 592 3627]]\n"
     ]
    },
    {
     "data": {
      "text/plain": [
       "<AxesSubplot:>"
      ]
     },
     "execution_count": 104,
     "metadata": {},
     "output_type": "execute_result"
    },
    {
     "data": {
      "image/png": "[encoded data removed]",
      "text/plain": [
       "<Figure size 432x288 with 2 Axes>"
      ]
     },
     "metadata": {
      "needs_background": "light"
     },
     "output_type": "display_data"
    }
   ],
   "source": [
    "# Classifier \n",
    "est1=RandomForestClassifier(n_jobs=-1, bootstrap=True, criterion='gini', max_depth= 15,min_samples_leaf= 5, n_estimators= 350)\n",
    "# fit\n",
    "est1.fit(X_Train_TFIDF, y_train)\n",
    "y_predict_test = est1.predict(tfidf_test)\n",
    "y_predict_test\n",
    "cm = confusion_matrix(y_test, y_predict_test)\n",
    "print(cm)\n",
    "sns.heatmap(cm, annot=True)"
   ]
  },
  {
   "cell_type": "code",
   "execution_count": 105,
   "metadata": {},
   "outputs": [
    {
     "data": {
      "text/plain": [
       "0.8280644023974615"
      ]
     },
     "execution_count": 105,
     "metadata": {},
     "output_type": "execute_result"
    }
   ],
   "source": [
    "accuracy_score(y_test, y_predict_test)"
   ]
  },
  {
   "cell_type": "code",
   "execution_count": 106,
   "metadata": {},
   "outputs": [
    {
     "data": {
      "text/plain": [
       "0.8063583815028902"
      ]
     },
     "execution_count": 106,
     "metadata": {},
     "output_type": "execute_result"
    }
   ],
   "source": [
    "from sklearn.metrics import precision_score\n",
    "precision_score(y_test, y_predict_test)"
   ]
  },
  {
   "cell_type": "code",
   "execution_count": 107,
   "metadata": {},
   "outputs": [
    {
     "data": {
      "text/plain": [
       "0.8596823891917516"
      ]
     },
     "execution_count": 107,
     "metadata": {},
     "output_type": "execute_result"
    }
   ],
   "source": [
    "from sklearn.metrics import recall_score\n",
    "recall_score(y_test, y_predict_test)"
   ]
  },
  {
   "cell_type": "code",
   "execution_count": 108,
   "metadata": {},
   "outputs": [
    {
     "data": {
      "text/plain": [
       "0.8321670299414936"
      ]
     },
     "execution_count": 108,
     "metadata": {},
     "output_type": "execute_result"
    }
   ],
   "source": [
    "from sklearn.metrics import f1_score\n",
    "f1_score(y_test, y_predict_test)"
   ]
  },
  {
   "cell_type": "markdown",
   "metadata": {},
   "source": [
    "# XgBoost Classifier"
   ]
  },
  {
   "cell_type": "code",
   "execution_count": 110,
   "metadata": {},
   "outputs": [],
   "source": [
    "# XgBoost with tfidf\n",
    "import xgboost as xg\n",
    "xgb=xg.XGBClassifier()\n",
    "random_grid_1={'max_depth': [5,8,10,12,15,28,20,25,50],\n",
    "    'reg_alpha':[0.00001,0.0001,0.001,0.01,0.1,0.5],\n",
    "    'subsample': [0.001,0.1,0.3,0.6,0.8,1],\n",
    "    'colsample_bytree': [0.1,0.3,0.5,0.7,1],\n",
    "    'gamma': [0.0001,0.001,0.01,0.1,0.3,0.6,0.8]\n",
    "             }"
   ]
  },
  {
   "cell_type": "code",
   "execution_count": 111,
   "metadata": {},
   "outputs": [],
   "source": [
    "dt_parameters, dt_ht_score,results_dt=hyperparameter_tuning(xgb,random_grid_1,10, X_Train_TFIDF, y_train)"
   ]
  },
  {
   "cell_type": "code",
   "execution_count": 113,
   "metadata": {},
   "outputs": [
    {
     "data": {
      "text/html": [
       "<div>\n",
       "<style scoped>\n",
       "    .dataframe tbody tr th:only-of-type {\n",
       "        vertical-align: middle;\n",
       "    }\n",
       "\n",
       "    .dataframe tbody tr th {\n",
       "        vertical-align: top;\n",
       "    }\n",
       "\n",
       "    .dataframe thead th {\n",
       "        text-align: right;\n",
       "    }\n",
       "</style>\n",
       "<table border=\"1\" class=\"dataframe\">\n",
       "  <thead>\n",
       "    <tr style=\"text-align: right;\">\n",
       "      <th></th>\n",
       "      <th>param_max_depth</th>\n",
       "      <th>param_reg_alpha</th>\n",
       "      <th>param_subsample</th>\n",
       "      <th>mean_train_score</th>\n",
       "      <th>mean_test_score</th>\n",
       "      <th>param_gamma</th>\n",
       "      <th>param_colsample_bytree</th>\n",
       "    </tr>\n",
       "  </thead>\n",
       "  <tbody>\n",
       "    <tr>\n",
       "      <th>0</th>\n",
       "      <td>20</td>\n",
       "      <td>0.1</td>\n",
       "      <td>0.3</td>\n",
       "      <td>0.959653</td>\n",
       "      <td>0.832972</td>\n",
       "      <td>0.3</td>\n",
       "      <td>1</td>\n",
       "    </tr>\n",
       "    <tr>\n",
       "      <th>1</th>\n",
       "      <td>15</td>\n",
       "      <td>0.01</td>\n",
       "      <td>0.3</td>\n",
       "      <td>0.940928</td>\n",
       "      <td>0.838059</td>\n",
       "      <td>0.1</td>\n",
       "      <td>0.7</td>\n",
       "    </tr>\n",
       "    <tr>\n",
       "      <th>2</th>\n",
       "      <td>20</td>\n",
       "      <td>0.01</td>\n",
       "      <td>0.3</td>\n",
       "      <td>0.941508</td>\n",
       "      <td>0.842190</td>\n",
       "      <td>0.3</td>\n",
       "      <td>0.3</td>\n",
       "    </tr>\n",
       "    <tr>\n",
       "      <th>3</th>\n",
       "      <td>50</td>\n",
       "      <td>0.00001</td>\n",
       "      <td>0.8</td>\n",
       "      <td>0.980104</td>\n",
       "      <td>0.859114</td>\n",
       "      <td>0.8</td>\n",
       "      <td>0.1</td>\n",
       "    </tr>\n",
       "    <tr>\n",
       "      <th>4</th>\n",
       "      <td>20</td>\n",
       "      <td>0.001</td>\n",
       "      <td>1</td>\n",
       "      <td>0.983667</td>\n",
       "      <td>0.855135</td>\n",
       "      <td>0.3</td>\n",
       "      <td>0.3</td>\n",
       "    </tr>\n",
       "    <tr>\n",
       "      <th>5</th>\n",
       "      <td>15</td>\n",
       "      <td>0.001</td>\n",
       "      <td>0.1</td>\n",
       "      <td>0.866544</td>\n",
       "      <td>0.804865</td>\n",
       "      <td>0.8</td>\n",
       "      <td>0.7</td>\n",
       "    </tr>\n",
       "    <tr>\n",
       "      <th>6</th>\n",
       "      <td>15</td>\n",
       "      <td>0.01</td>\n",
       "      <td>0.001</td>\n",
       "      <td>0.621770</td>\n",
       "      <td>0.625044</td>\n",
       "      <td>0.6</td>\n",
       "      <td>0.3</td>\n",
       "    </tr>\n",
       "    <tr>\n",
       "      <th>7</th>\n",
       "      <td>50</td>\n",
       "      <td>0.001</td>\n",
       "      <td>1</td>\n",
       "      <td>0.998665</td>\n",
       "      <td>0.850048</td>\n",
       "      <td>0.0001</td>\n",
       "      <td>1</td>\n",
       "    </tr>\n",
       "    <tr>\n",
       "      <th>8</th>\n",
       "      <td>5</td>\n",
       "      <td>0.1</td>\n",
       "      <td>1</td>\n",
       "      <td>0.885546</td>\n",
       "      <td>0.838715</td>\n",
       "      <td>0.3</td>\n",
       "      <td>0.1</td>\n",
       "    </tr>\n",
       "    <tr>\n",
       "      <th>9</th>\n",
       "      <td>50</td>\n",
       "      <td>0.01</td>\n",
       "      <td>0.8</td>\n",
       "      <td>0.996235</td>\n",
       "      <td>0.853826</td>\n",
       "      <td>0.0001</td>\n",
       "      <td>0.3</td>\n",
       "    </tr>\n",
       "  </tbody>\n",
       "</table>\n",
       "</div>"
      ],
      "text/plain": [
       "  param_max_depth param_reg_alpha param_subsample  mean_train_score  \\\n",
       "0              20             0.1             0.3          0.959653   \n",
       "1              15            0.01             0.3          0.940928   \n",
       "2              20            0.01             0.3          0.941508   \n",
       "3              50         0.00001             0.8          0.980104   \n",
       "4              20           0.001               1          0.983667   \n",
       "5              15           0.001             0.1          0.866544   \n",
       "6              15            0.01           0.001          0.621770   \n",
       "7              50           0.001               1          0.998665   \n",
       "8               5             0.1               1          0.885546   \n",
       "9              50            0.01             0.8          0.996235   \n",
       "\n",
       "   mean_test_score param_gamma param_colsample_bytree  \n",
       "0         0.832972         0.3                      1  \n",
       "1         0.838059         0.1                    0.7  \n",
       "2         0.842190         0.3                    0.3  \n",
       "3         0.859114         0.8                    0.1  \n",
       "4         0.855135         0.3                    0.3  \n",
       "5         0.804865         0.8                    0.7  \n",
       "6         0.625044         0.6                    0.3  \n",
       "7         0.850048      0.0001                      1  \n",
       "8         0.838715         0.3                    0.1  \n",
       "9         0.853826      0.0001                    0.3  "
      ]
     },
     "execution_count": 113,
     "metadata": {},
     "output_type": "execute_result"
    }
   ],
   "source": [
    "results_dt[['param_max_depth','param_reg_alpha','param_subsample','mean_train_score','mean_test_score','param_gamma','param_colsample_bytree' ]]"
   ]
  },
  {
   "cell_type": "code",
   "execution_count": 114,
   "metadata": {},
   "outputs": [
    {
     "name": "stdout",
     "output_type": "stream",
     "text": [
      "[[3621  669]\n",
      " [ 638 3581]]\n"
     ]
    },
    {
     "data": {
      "text/plain": [
       "<AxesSubplot:>"
      ]
     },
     "execution_count": 114,
     "metadata": {},
     "output_type": "execute_result"
    },
    {
     "data": {
      "image/png": "[encoded data removed]",
      "text/plain": [
       "<Figure size 432x288 with 2 Axes>"
      ]
     },
     "metadata": {
      "needs_background": "light"
     },
     "output_type": "display_data"
    }
   ],
   "source": [
    "# Classifier \n",
    "classifier_xgb=xg.XGBClassifier(subsample= 0.3,reg_alpha= 0.01,max_depth=20,colsample_bytree=0.3, gamma=0.3)\n",
    "# fit\n",
    "classifier_xgb.fit(X_Train_TFIDF, y_train)\n",
    "y_predict_test = classifier_xgb.predict(tfidf_test)\n",
    "y_predict_test\n",
    "cm = confusion_matrix(y_test, y_predict_test)\n",
    "print(cm)\n",
    "sns.heatmap(cm, annot=True)"
   ]
  },
  {
   "cell_type": "code",
   "execution_count": 115,
   "metadata": {},
   "outputs": [
    {
     "data": {
      "text/plain": [
       "0.8463979316018333"
      ]
     },
     "execution_count": 115,
     "metadata": {},
     "output_type": "execute_result"
    }
   ],
   "source": [
    "accuracy_score(y_test, y_predict_test)"
   ]
  },
  {
   "cell_type": "code",
   "execution_count": 116,
   "metadata": {},
   "outputs": [
    {
     "data": {
      "text/plain": [
       "0.8425882352941176"
      ]
     },
     "execution_count": 116,
     "metadata": {},
     "output_type": "execute_result"
    }
   ],
   "source": [
    "from sklearn.metrics import precision_score\n",
    "precision_score(y_test, y_predict_test)"
   ]
  },
  {
   "cell_type": "code",
   "execution_count": 117,
   "metadata": {},
   "outputs": [
    {
     "data": {
      "text/plain": [
       "0.8487793315951647"
      ]
     },
     "execution_count": 117,
     "metadata": {},
     "output_type": "execute_result"
    }
   ],
   "source": [
    "from sklearn.metrics import recall_score\n",
    "recall_score(y_test, y_predict_test)"
   ]
  },
  {
   "cell_type": "code",
   "execution_count": 118,
   "metadata": {},
   "outputs": [
    {
     "data": {
      "text/plain": [
       "0.8456724524737278"
      ]
     },
     "execution_count": 118,
     "metadata": {},
     "output_type": "execute_result"
    }
   ],
   "source": [
    "from sklearn.metrics import f1_score\n",
    "f1_score(y_test, y_predict_test)"
   ]
  },
  {
   "cell_type": "markdown",
   "metadata": {},
   "source": []
  },
  {
   "cell_type": "code",
   "execution_count": 119,
   "metadata": {},
   "outputs": [
    {
     "name": "stdout",
     "output_type": "stream",
     "text": [
      "[[3676  614]\n",
      " [ 638 3581]]\n"
     ]
    },
    {
     "data": {
      "text/plain": [
       "<AxesSubplot:>"
      ]
     },
     "execution_count": 119,
     "metadata": {},
     "output_type": "execute_result"
    },
    {
     "data": {
      "image/png": "[encoded data removed]",
      "text/plain": [
       "<Figure size 432x288 with 2 Axes>"
      ]
     },
     "metadata": {
      "needs_background": "light"
     },
     "output_type": "display_data"
    }
   ],
   "source": [
    "classifier_xgb=xg.XGBClassifier()\n",
    "# fit\n",
    "classifier_xgb.fit(X_Train_TFIDF, y_train)\n",
    "y_predict_test = classifier_xgb.predict(tfidf_test)\n",
    "y_predict_test\n",
    "cm = confusion_matrix(y_test, y_predict_test)\n",
    "print(cm)\n",
    "sns.heatmap(cm, annot=True)"
   ]
  },
  {
   "cell_type": "code",
   "execution_count": 120,
   "metadata": {},
   "outputs": [
    {
     "data": {
      "text/plain": [
       "0.8528616758726055"
      ]
     },
     "execution_count": 120,
     "metadata": {},
     "output_type": "execute_result"
    }
   ],
   "source": [
    "accuracy_score(y_test, y_predict_test)"
   ]
  },
  {
   "cell_type": "code",
   "execution_count": 121,
   "metadata": {},
   "outputs": [
    {
     "data": {
      "text/plain": [
       "0.8536352800953516"
      ]
     },
     "execution_count": 121,
     "metadata": {},
     "output_type": "execute_result"
    }
   ],
   "source": [
    "from sklearn.metrics import precision_score\n",
    "precision_score(y_test, y_predict_test)"
   ]
  },
  {
   "cell_type": "code",
   "execution_count": 122,
   "metadata": {},
   "outputs": [
    {
     "data": {
      "text/plain": [
       "0.8487793315951647"
      ]
     },
     "execution_count": 122,
     "metadata": {},
     "output_type": "execute_result"
    }
   ],
   "source": [
    "from sklearn.metrics import recall_score\n",
    "recall_score(y_test, y_predict_test)"
   ]
  },
  {
   "cell_type": "code",
   "execution_count": 123,
   "metadata": {},
   "outputs": [
    {
     "data": {
      "text/plain": [
       "0.8512003803185167"
      ]
     },
     "execution_count": 123,
     "metadata": {},
     "output_type": "execute_result"
    }
   ],
   "source": [
    "from sklearn.metrics import f1_score\n",
    "f1_score(y_test, y_predict_test)"
   ]
  },
  {
   "cell_type": "code",
   "execution_count": 125,
   "metadata": {},
   "outputs": [
    {
     "data": {
      "text/plain": [
       "'bowl morning good stuff add fruit nuts augment taste good healthy way start day helps keep regular'"
      ]
     },
     "execution_count": 125,
     "metadata": {},
     "output_type": "execute_result"
    }
   ],
   "source": [
    "X_train"
   ]
  },
  {
   "cell_type": "markdown",
   "metadata": {},
   "source": [
    "# Using pretrained glove vectors to build TextReview Classifier using Keras"
   ]
  },
  {
   "cell_type": "code",
   "execution_count": 152,
   "metadata": {},
   "outputs": [],
   "source": [
    "# Using pretrained glove vectors to build TextReview Classifier using Keras\n",
    "import numpy as np\n",
    "import pandas as pd\n",
    "from sklearn.model_selection import train_test_split\n",
    "from tqdm import tqdm\n",
    "import tensorflow \n",
    "import pickle\n",
    "from tensorflow.keras.models import Model\n",
    "from tensorflow.keras.layers import Input\n",
    "from tensorflow.keras.layers import Embedding \n",
    "from tensorflow.keras.layers import LSTM, Flatten, concatenate, Dense,LeakyReLU,Dropout\n",
    "from sklearn.preprocessing import LabelEncoder\n",
    "from tensorflow.keras.preprocessing.text import Tokenizer\n",
    "from tensorflow.keras.preprocessing.text import one_hot\n",
    "from tensorflow.keras.preprocessing.text import text_to_word_sequence\n",
    "from tensorflow.keras.preprocessing.sequence import pad_sequences\n",
    "from tensorflow.keras.models import Sequential\n",
    "from tensorflow.keras.layers import Dense\n",
    "from tensorflow.keras.utils import plot_model\n",
    "from tensorflow.keras.initializers import Constant\n",
    "#from tensorflow.keras.utils.vis_utils import plot_model\n",
    "from sklearn.feature_extraction.text import TfidfVectorizer \n",
    "import datetime, os\n",
    "from datetime import datetime\n",
    "import matplotlib.pyplot as plt"
   ]
  },
  {
   "cell_type": "code",
   "execution_count": 127,
   "metadata": {},
   "outputs": [],
   "source": [
    "# Reference: https://stackoverflow.com/questions/51956000/what-does-keras-tokenizer-method-exactly-do\n",
    "# prepare tokenizer \n",
    "t = Tokenizer(filters='!\"#$%&()*+,-./:;<=>?@[\\\\]^`{|}~\\t\\n') # add all characters except _\n",
    "t.fit_on_texts(X_train) # using only train dataset of column essay\n",
    "vocab_size_essay = len(t.word_index) + 1\n",
    "#print(vocab_size_essay)"
   ]
  },
  {
   "cell_type": "code",
   "execution_count": 128,
   "metadata": {},
   "outputs": [],
   "source": [
    "# integer encode the documents\n",
    "encoded_essay_train = t.texts_to_sequences(X_train) # using complete dataset of column essay for integer encoding\n",
    "#print(encoded_docs)"
   ]
  },
  {
   "cell_type": "code",
   "execution_count": 130,
   "metadata": {},
   "outputs": [
    {
     "data": {
      "text/plain": [
       "82.16165996756223"
      ]
     },
     "execution_count": 130,
     "metadata": {},
     "output_type": "execute_result"
    }
   ],
   "source": [
    "# For considering length for padding getting number of words count in each row and then taking mean of it\n",
    "final['totalwords'] = final['Text'].str.split().str.len()\n",
    "final['totalwords'].mean()"
   ]
  },
  {
   "cell_type": "code",
   "execution_count": 131,
   "metadata": {},
   "outputs": [],
   "source": [
    "# pad documents to a max length of 151 words\n",
    "max_length = 82\n",
    "padded_essay_train = pad_sequences(encoded_essay_train, maxlen=max_length, padding='post')\n",
    "#print(padded_essay_train)"
   ]
  },
  {
   "cell_type": "code",
   "execution_count": 135,
   "metadata": {},
   "outputs": [
    {
     "name": "stdout",
     "output_type": "stream",
     "text": [
      "Loaded 400000 word vectors.\n"
     ]
    }
   ],
   "source": [
    "#please use below code to load glove vectors and whole embedding into memory as a dictionary of word to embedding array.\n",
    "import pickle\n",
    "import numpy as np\n",
    "embeddings_index = dict()\n",
    "f=open('C:/Users/shwer/OneDrive/Desktop/New folder/glove.6B.100d.txt',encoding=\"utf8\") # opening glove vector file\n",
    "for line in f: # looping through each line in the file\n",
    "    values = line.split() # splitting by space\n",
    "    word = values[0] # is the word\n",
    "    coefs = np.asarray(values[1:], dtype='float32') # is the array vector assoicated with it\n",
    "    embeddings_index[word] = coefs # dictionary with key as word from file and value is the array vector associated with the word\n",
    "f.close()\n",
    "print('Loaded %s word vectors.' % len(embeddings_index))"
   ]
  },
  {
   "cell_type": "code",
   "execution_count": 136,
   "metadata": {},
   "outputs": [],
   "source": [
    "# create a weight matrix for words in training docs\n",
    "# create a matrix of one embedding for each word in the training dataset\n",
    "# We can do that by enumerating all unique words in the Tokenizer.word_index and locating the embedding weight vector from the loaded GloVe embedding.\n",
    "embedding_matrix = np.zeros((vocab_size_essay, 100)) \n",
    "for word, i in t.word_index.items(): # getting each word from training dataset word is the word in tarining set and i is incremental index\n",
    "    #print(word,i)\n",
    "    embedding_vector = embeddings_index.get(word) # getting the vector for that same word from previous step (glove vectors)\n",
    "    # print(embedding_vector)\n",
    "    if embedding_vector is not None: \n",
    "        embedding_matrix[i] = embedding_vector # add corresponding vector value for that associated word"
   ]
  },
  {
   "cell_type": "code",
   "execution_count": 137,
   "metadata": {},
   "outputs": [
    {
     "data": {
      "text/plain": [
       "array([[ 0.        ,  0.        ,  0.        , ...,  0.        ,\n",
       "         0.        ,  0.        ],\n",
       "       [-0.19103999,  0.17601   ,  0.36919999, ..., -0.59680003,\n",
       "         0.080843  ,  0.27866   ],\n",
       "       [-0.2687    ,  0.81708002,  0.69896001, ..., -0.40110001,\n",
       "         0.74656999,  0.31121999],\n",
       "       ...,\n",
       "       [-0.33877999, -0.15975   ,  0.32347   , ..., -0.65210998,\n",
       "         0.64771003, -0.12778001],\n",
       "       [ 0.        ,  0.        ,  0.        , ...,  0.        ,\n",
       "         0.        ,  0.        ],\n",
       "       [-0.020825  ,  0.17245001,  0.50760001, ...,  0.35738   ,\n",
       "        -0.17585   ,  0.62044001]])"
      ]
     },
     "execution_count": 137,
     "metadata": {},
     "output_type": "execute_result"
    }
   ],
   "source": [
    "embedding_matrix"
   ]
  },
  {
   "cell_type": "code",
   "execution_count": 138,
   "metadata": {},
   "outputs": [],
   "source": [
    "# integer encode the documents\n",
    "encoded_essay_test = t.texts_to_sequences(X_test)\n",
    "#print(encoded_docs)\n",
    "padded_essay_test = pad_sequences(encoded_essay_test, maxlen=max_length, padding='post')"
   ]
  },
  {
   "cell_type": "code",
   "execution_count": 139,
   "metadata": {},
   "outputs": [],
   "source": [
    "re= tensorflow.keras.metrics.Recall()\n",
    "pr=tensorflow.keras.metrics.Precision()"
   ]
  },
  {
   "cell_type": "code",
   "execution_count": 167,
   "metadata": {},
   "outputs": [
    {
     "name": "stdout",
     "output_type": "stream",
     "text": [
      "Model: \"sequential_8\"\n",
      "_________________________________________________________________\n",
      "Layer (type)                 Output Shape              Param #   \n",
      "=================================================================\n",
      "embedding_6 (Embedding)      (None, 82, 100)           2792000   \n",
      "_________________________________________________________________\n",
      "lstm_14 (LSTM)               (None, 82, 256)           365568    \n",
      "_________________________________________________________________\n",
      "dropout_9 (Dropout)          (None, 82, 256)           0         \n",
      "_________________________________________________________________\n",
      "leaky_re_lu_12 (LeakyReLU)   (None, 82, 256)           0         \n",
      "_________________________________________________________________\n",
      "lstm_15 (LSTM)               (None, 82, 128)           197120    \n",
      "_________________________________________________________________\n",
      "leaky_re_lu_13 (LeakyReLU)   (None, 82, 128)           0         \n",
      "_________________________________________________________________\n",
      "dropout_10 (Dropout)         (None, 82, 128)           0         \n",
      "_________________________________________________________________\n",
      "lstm_16 (LSTM)               (None, 64)                49408     \n",
      "_________________________________________________________________\n",
      "leaky_re_lu_14 (LeakyReLU)   (None, 64)                0         \n",
      "_________________________________________________________________\n",
      "dense_5 (Dense)              (None, 1)                 65        \n",
      "=================================================================\n",
      "Total params: 3,404,161\n",
      "Trainable params: 612,161\n",
      "Non-trainable params: 2,792,000\n",
      "_________________________________________________________________\n"
     ]
    }
   ],
   "source": [
    "model=Sequential()\n",
    "model.add(Embedding(vocab_size_essay,100,embeddings_initializer=Constant(embedding_matrix),input_length=max_length,trainable=False))\n",
    "model.add(LSTM(256,return_sequences=True))\n",
    "model.add(Dropout(0.2)) \n",
    "model.add(LeakyReLU(alpha=0.5)) \n",
    "model.add(LSTM(128, return_sequences=True))\n",
    "model.add(LeakyReLU(alpha=0.2)) \n",
    "model.add(Dropout(0.4)) \n",
    "model.add(LSTM(64))\n",
    "model.add(LeakyReLU(alpha=0.5)) \n",
    "model.add(Dense(1,activation='sigmoid'))\n",
    "model.summary()"
   ]
  },
  {
   "cell_type": "code",
   "execution_count": 168,
   "metadata": {},
   "outputs": [],
   "source": [
    "# compile the model\n",
    "model.compile(optimizer='adam', loss='binary_crossentropy', metrics=[\"accuracy\",re,pr,])\n",
    "from tensorflow.keras.callbacks import EarlyStopping\n",
    "earlystop = EarlyStopping(monitor='val_accuracy', patience=2, verbose=1,mode='max')"
   ]
  },
  {
   "cell_type": "code",
   "execution_count": 169,
   "metadata": {},
   "outputs": [
    {
     "name": "stdout",
     "output_type": "stream",
     "text": [
      "Train on 19853 samples, validate on 8509 samples\n",
      "Epoch 1/30\n",
      "19853/19853 [==============================] - 151s 8ms/sample - loss: 0.6090 - accuracy: 0.6553 - recall: 0.7352 - precision: 0.6352 - val_loss: 0.4882 - val_accuracy: 0.7708 - val_recall: 0.6859 - val_precision: 0.8224\n",
      "Epoch 2/30\n",
      "19853/19853 [==============================] - 164s 8ms/sample - loss: 0.4707 - accuracy: 0.7868 - recall: 0.7755 - precision: 0.7946 - val_loss: 0.4779 - val_accuracy: 0.7957 - val_recall: 0.8540 - val_precision: 0.7625\n",
      "Epoch 3/30\n",
      "19853/19853 [==============================] - 199s 10ms/sample - loss: 0.4482 - accuracy: 0.7971 - recall: 0.7804 - precision: 0.8085 - val_loss: 0.4422 - val_accuracy: 0.8026 - val_recall: 0.8801 - val_precision: 0.7598\n",
      "Epoch 4/30\n",
      "19853/19853 [==============================] - 192s 10ms/sample - loss: 0.4161 - accuracy: 0.8114 - recall: 0.7992 - precision: 0.8202 - val_loss: 0.4292 - val_accuracy: 0.8142 - val_recall: 0.7208 - val_precision: 0.8830\n",
      "Epoch 5/30\n",
      "19853/19853 [==============================] - 193s 10ms/sample - loss: 0.4048 - accuracy: 0.8235 - recall: 0.8033 - precision: 0.8382 - val_loss: 0.4047 - val_accuracy: 0.8138 - val_recall: 0.9111 - val_precision: 0.7607\n",
      "Epoch 6/30\n",
      "19853/19853 [==============================] - 201s 10ms/sample - loss: 0.3594 - accuracy: 0.8417 - recall: 0.8284 - precision: 0.8520 - val_loss: 0.3641 - val_accuracy: 0.8391 - val_recall: 0.7869 - val_precision: 0.8760\n",
      "Epoch 7/30\n",
      "19853/19853 [==============================] - 197s 10ms/sample - loss: 0.3631 - accuracy: 0.8409 - recall: 0.8259 - precision: 0.8525 - val_loss: 0.4282 - val_accuracy: 0.8404 - val_recall: 0.8443 - val_precision: 0.8356\n",
      "Epoch 8/30\n",
      "19853/19853 [==============================] - 199s 10ms/sample - loss: 0.3323 - accuracy: 0.8595 - recall: 0.8424 - precision: 0.8732 - val_loss: 0.3372 - val_accuracy: 0.8574 - val_recall: 0.8336 - val_precision: 0.8731\n",
      "Epoch 9/30\n",
      "19853/19853 [==============================] - 214s 11ms/sample - loss: 0.3086 - accuracy: 0.8702 - recall: 0.8575 - precision: 0.8808 - val_loss: 0.3863 - val_accuracy: 0.8279 - val_recall: 0.9407 - val_precision: 0.7658\n",
      "Epoch 10/30\n",
      "19853/19853 [==============================] - 216s 11ms/sample - loss: 0.2965 - accuracy: 0.8751 - recall: 0.8723 - precision: 0.8780 - val_loss: 0.3297 - val_accuracy: 0.8587 - val_recall: 0.8575 - val_precision: 0.8575\n",
      "Epoch 11/30\n",
      "19853/19853 [==============================] - 220s 11ms/sample - loss: 0.2811 - accuracy: 0.8844 - recall: 0.8780 - precision: 0.8901 - val_loss: 0.3463 - val_accuracy: 0.8604 - val_recall: 0.8813 - val_precision: 0.8440\n",
      "Epoch 12/30\n",
      "19853/19853 [==============================] - 203s 10ms/sample - loss: 0.2616 - accuracy: 0.8948 - recall: 0.8833 - precision: 0.9048 - val_loss: 0.3454 - val_accuracy: 0.8519 - val_recall: 0.8606 - val_precision: 0.8438\n",
      "Epoch 13/30\n",
      "19853/19853 [==============================] - 198s 10ms/sample - loss: 0.2489 - accuracy: 0.9002 - recall: 0.8911 - precision: 0.9083 - val_loss: 0.3657 - val_accuracy: 0.8516 - val_recall: 0.9142 - val_precision: 0.8106\n",
      "Epoch 00013: early stopping\n"
     ]
    }
   ],
   "source": [
    "history=model.fit(padded_essay_train,y_train,\n",
    "          validation_data=(padded_essay_test,y_test),epochs=30,batch_size=500,verbose=1,callbacks=[earlystop])"
   ]
  },
  {
   "cell_type": "markdown",
   "metadata": {},
   "source": [
    "# Summary"
   ]
  },
  {
   "cell_type": "code",
   "execution_count": 171,
   "metadata": {},
   "outputs": [
    {
     "name": "stdout",
     "output_type": "stream",
     "text": [
      "+-------------------------------------------------------------+------------+-------------+----------+------------+\n",
      "|                            Model                            | Accuracy % | Precision % | Recall % | F1-Score % |\n",
      "+-------------------------------------------------------------+------------+-------------+----------+------------+\n",
      "|     Naive Bayes with Bag of Words Hyperparameter Tuning     |   86.02    |    86.73    |  86.77   |   86.75    |\n",
      "| Logistic Regression with Bag of Words Hyperparameter Tuning |    86.8    |    86.73    |  86.77   |   86.75    |\n",
      "|        Naive Bayes with TF-idf Hyperparameter Tuning        |   88.25    |     87.9    |   88.4   |   88.19    |\n",
      "|       Decision Tree with TF-idf Hyperparameter Tuning       |     73     |     77.4    |   64.7   |    70.5    |\n",
      "|       Random Forest with TF-idf Hyperparameter Tuning       |    84.6    |     84.2    |  84.87   |   84.567   |\n",
      "|                     XG-Boost with Tf-idf                    |   85.29    |    85.36    |  84.87   |   85.12    |\n",
      "|              LSTM with Pretrained Glove Vectors             |   86.04    |     84.4    |  88.13   |   86.22    |\n",
      "+-------------------------------------------------------------+------------+-------------+----------+------------+\n"
     ]
    }
   ],
   "source": [
    "from prettytable import PrettyTable\n",
    "x = PrettyTable()\n",
    "x.field_names = [\"Model\", \"Accuracy %\", \"Precision %\",\"Recall %\",\"F1-Score %\"] # \n",
    "\n",
    "x.add_row([\"Naive Bayes with Bag of Words Hyperparameter Tuning\", 86.02,86.73,86.77,86.75 ])\n",
    "x.add_row([\"Logistic Regression with Bag of Words Hyperparameter Tuning\", 86.8 , 86.73,86.77,86.75])\n",
    "x.add_row([\"Naive Bayes with TF-idf Hyperparameter Tuning\", 88.25, 87.9,88.4,88.19])\n",
    "x.add_row([\"Decision Tree with TF-idf Hyperparameter Tuning\", 73, 77.4,64.7,70.5])\n",
    "x.add_row([\"Random Forest with TF-idf Hyperparameter Tuning\", 84.6, 84.2,84.87,84.567])\n",
    "x.add_row([\"XG-Boost with Tf-idf\", 85.29, 85.36,84.87,85.12])\n",
    "x.add_row([\"LSTM with Pretrained Glove Vectors\", 86.04, 84.40,88.13,86.22])\n",
    "print(x)"
   ]
  },
  {
   "cell_type": "markdown",
   "metadata": {},
   "source": [
    "# Conclusion:\n",
    "<br><b><h1>Multinomial Naive Bayes with Tf-idf perform best among all models.</h1></b></br>"
   ]
  },
  {
   "cell_type": "markdown",
   "metadata": {},
   "source": [
    "## Citiation\n",
    "\n",
    "<br>(n.d.). Retrieved October 31, 2020, from https://nlp.stanford.edu/IR-book/html/htmledition/stemming-and-lemmatization-1.html\n",
    "Aravind PaiAravind is a sports fanatic. His passion lies in developing data-driven products for the sports domain. He strongly believes that analytics in sports can be a game-changer. </br>\n",
    "<br> (2020, July 12). What is Tokenization: Tokenization In NLP. Retrieved October 31, 2020, from https://www.analyticsvidhya.com/blog/2020/05/what-is-tokenization-nlp/</br>\n",
    "<br> Daniele BDaniele B 15.7k1919 gold badges9090 silver badges146146 bronze badges, Shawnlshawnl 1, BobbyBobby 6, SparkAndShineSparkAndShine 13.4k1414 gold badges7070 silver badges110110 bronze badges, Danblackdanblack 8111 silver badge22 bronze badges, Chaitanya MallepudiChaitanya Mallepudi 1, & Shaurya ShethShaurya Sheth 9577 bronze badges. (1962, July 01). Python/BeautifulSoup - how to remove all tags from an element? Retrieved October 31, 2020, from https://stackoverflow.com/questions/16206380/python-beautifulsoup-how-to-remove-all-tags-from-an-element</br>\n",
    "<br> MaartenMaarten 3, Arturomparturomp 25.3k1010 gold badges3737 silver badges6363 bronze badges, Yann DuboisYann Dubois 69488 silver badges1010 bronze badges, Alkoalko 37.7k77 gold badges8686 silver badges9696 bronze badges, Joe9008Joe9008 49855 silver badges1010 bronze badges, Hammad HassanHammad Hassan 1, . . . JawwadJawwad 1111 bronze badge. (1963, February 01). Expanding English language contractions in Python. Retrieved October 31, 2020, from https://stackoverflow.com/questions/19790188/expanding-english-language-contractions-in-python/47091490</br>\n",
    "<br> Muhammad TahaMuhammad Taha 1, ΩmegaΩmega 35.6k2626 gold badges109109 silver badges176176 bronze badges, Tolgayilmaztolgayilmaz 2, Lee MartinLee Martin 13111 silver badge33 bronze badges, PranzellPranzell 1, Gabriel Giraldo-WinglerGabriel Giraldo-Wingler 10111 silver badge55 bronze badges, . . . Mounirboulwafamounirboulwafa 75166 silver badges1010 bronze badges. (1961, September 01). How to remove any URL within a string in Python. Retrieved October 31, 2020, from https://stackoverflow.com/questions/11331982/how-to-remove-any-url-within-a-string-in-python</br>\n",
    "<br> Quentin ManfroiQuentin Manfroi 14711 gold badge11 silver badge66 bronze badges, Arshajiiarshajii 115k2222 gold badges210210 silver badges269269 bronze badges, & User2555451user2555451. (1962, November 01). Python regex to remove all words which contains number. Retrieved October 31, 2020, from https://stackoverflow.com/questions/18082130/python-regex-to-remove-all-words-which-contains-number</br>\n",
    "<br> Saurav JainEnthusiastic Coder Developer and always a learner, Jain, S., & Enthusiastic Coder Developer and always a learner. (2020, September 17). Introduction to Stemming. Retrieved October 31, 2020, from https://www.geeksforgeeks.org/introduction-to-stemming/ </br>\n",
    "<br> Tfidf. (2019, May 10). Retrieved October 31, 2020, from https://monkeylearn.com/blog/what-is-tf-idf/</br>\n",
    "<br> User664546user664546 3, User225312user225312 102k6060 gold badges158158 silver badges179179 bronze badges, Andy WhiteAndy White 79.5k4646 gold badges167167 silver badges204204 bronze badges, TuxErrantetuxErrante 84977 silver badges1313 bronze badges, Mbeacommbeacom 1, Grijesh ChauhanGrijesh Chauhan 51.4k1515 gold badges118118 silver badges180180 bronze badges, . . . Dsw WdsDsw Wds 39833 silver badges1515 bronze badges. (1960, July 01). Remove all special characters, punctuation and spaces from string. Retrieved October 31, 2020, from https://stackoverflow.com/questions/5843518/remove-all-special-characters-punctuation-and-spaces-from-string/5843547</br>\n",
    "<br>\n",
    "Word Embedding Tutorial: Word2vec using Gensim [EXAMPLE]. (n.d.). Retrieved October 31, 2020, from https://www.guru99.com/word-embedding-word2vec.html\n",
    "</br>\n",
    "<br>\n",
    "Word2Vec </br>\n",
    "<br>Implementation: https://www.youtube.com/watch?v=Otde6VGvhWM&ab_channel=KrishNaik\n",
    "</br>"
   ]
  },
  {
   "cell_type": "markdown",
   "metadata": {},
   "source": [
    "\n",
    "## Copyright 2020 Shwetank Rokade\n",
    "\n",
    "<br>Permission is hereby granted, free of charge, to any person obtaining a copy of this software and associated documentation files (the \"Software\"), to deal in the Software without restriction, including without limitation the rights to use, copy, modify, merge, publish, distribute, sublicense, and/or sell copies of the Software, and to permit persons to whom the Software is furnished to do so, subject to the following conditions:</br>\n",
    "\n",
    "<br>The above copyright notice and this permission notice shall be included in all copies or substantial portions of the Software.</br>\n",
    "\n",
    "<br>THE SOFTWARE IS PROVIDED \"AS IS\", WITHOUT WARRANTY OF ANY KIND, EXPRESS OR IMPLIED, INCLUDING BUT NOT LIMITED TO THE WARRANTIES OF MERCHANTABILITY, FITNESS FOR A PARTICULAR PURPOSE AND NONINFRINGEMENT. IN NO EVENT SHALL THE AUTHORS OR COPYRIGHT HOLDERS BE LIABLE FOR ANY CLAIM, DAMAGES OR OTHER LIABILITY, WHETHER IN AN ACTION OF CONTRACT, TORT OR OTHERWISE, ARISING FROM, OUT OF OR IN CONNECTION WITH THE SOFTWARE OR THE USE OR OTHER DEALINGS IN THE SOFTWARE.</br>"
   ]
  }
 ],
 "metadata": {
  "kernelspec": {
   "display_name": "Python 3",
   "language": "python",
   "name": "python3"
  },
  "language_info": {
   "codemirror_mode": {
    "name": "ipython",
    "version": 3
   },
   "file_extension": ".py",
   "mimetype": "text/x-python",
   "name": "python",
   "nbconvert_exporter": "python",
   "pygments_lexer": "ipython3",
   "version": "3.7.7"
  }
 },
 "nbformat": 4,
 "nbformat_minor": 4
}
